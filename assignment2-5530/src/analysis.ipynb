{
  "nbformat": 4,
  "nbformat_minor": 0,
  "metadata": {
    "colab": {
      "provenance": []
    },
    "kernelspec": {
      "name": "ir",
      "display_name": "R"
    },
    "language_info": {
      "name": "R"
    }
  },
  "cells": [
    {
      "cell_type": "code",
      "source": [
        "library(dplyr)"
      ],
      "metadata": {
        "id": "oinXGfFwpz6i"
      },
      "execution_count": 12,
      "outputs": []
    },
    {
      "cell_type": "code",
      "execution_count": 13,
      "metadata": {
        "id": "Lcx6Acv1pGqC"
      },
      "outputs": [],
      "source": [
        "#readign in the new clean data csv file\n",
        "clean_car_data <- read.csv(\"data_clean/clean_train.csv\")"
      ]
    },
    {
      "cell_type": "code",
      "source": [
        "#creating the results folder\n",
        "if (!dir.exists(\"results\")) {\n",
        "  dir.create(\"results\")\n",
        "}"
      ],
      "metadata": {
        "id": "rqPGNTZVqAB5"
      },
      "execution_count": 14,
      "outputs": []
    },
    {
      "cell_type": "code",
      "source": [
        "#selecting only the name and the mileage column from the dataset\n",
        "select_NM <- select(clean_car_data, Name, Mileage)\n",
        "head(select_NM)\n",
        "write.csv(select_NM, \"results/select_NM.csv\")"
      ],
      "metadata": {
        "colab": {
          "base_uri": "https://localhost:8080/",
          "height": 283
        },
        "id": "VrVUU6FHpUf2",
        "outputId": "8c25f3ec-2da9-4c51-8114-fb9abfad91d1"
      },
      "execution_count": 15,
      "outputs": [
        {
          "output_type": "display_data",
          "data": {
            "text/html": [
              "<table class=\"dataframe\">\n",
              "<caption>A data.frame: 6 × 2</caption>\n",
              "<thead>\n",
              "\t<tr><th></th><th scope=col>Name</th><th scope=col>Mileage</th></tr>\n",
              "\t<tr><th></th><th scope=col>&lt;chr&gt;</th><th scope=col>&lt;dbl&gt;</th></tr>\n",
              "</thead>\n",
              "<tbody>\n",
              "\t<tr><th scope=row>1</th><td>Hyundai Creta 1.6 CRDi SX Option </td><td>19.67</td></tr>\n",
              "\t<tr><th scope=row>2</th><td>Honda Jazz V                     </td><td>18.20</td></tr>\n",
              "\t<tr><th scope=row>3</th><td>Maruti Ertiga VDI                </td><td>20.77</td></tr>\n",
              "\t<tr><th scope=row>4</th><td>Audi A4 New 2.0 TDI Multitronic  </td><td>15.20</td></tr>\n",
              "\t<tr><th scope=row>5</th><td>Nissan Micra Diesel XV           </td><td>23.08</td></tr>\n",
              "\t<tr><th scope=row>6</th><td>Toyota Innova Crysta 2.8 GX AT 8S</td><td>11.36</td></tr>\n",
              "</tbody>\n",
              "</table>\n"
            ],
            "text/markdown": "\nA data.frame: 6 × 2\n\n| <!--/--> | Name &lt;chr&gt; | Mileage &lt;dbl&gt; |\n|---|---|---|\n| 1 | Hyundai Creta 1.6 CRDi SX Option  | 19.67 |\n| 2 | Honda Jazz V                      | 18.20 |\n| 3 | Maruti Ertiga VDI                 | 20.77 |\n| 4 | Audi A4 New 2.0 TDI Multitronic   | 15.20 |\n| 5 | Nissan Micra Diesel XV            | 23.08 |\n| 6 | Toyota Innova Crysta 2.8 GX AT 8S | 11.36 |\n\n",
            "text/latex": "A data.frame: 6 × 2\n\\begin{tabular}{r|ll}\n  & Name & Mileage\\\\\n  & <chr> & <dbl>\\\\\n\\hline\n\t1 & Hyundai Creta 1.6 CRDi SX Option  & 19.67\\\\\n\t2 & Honda Jazz V                      & 18.20\\\\\n\t3 & Maruti Ertiga VDI                 & 20.77\\\\\n\t4 & Audi A4 New 2.0 TDI Multitronic   & 15.20\\\\\n\t5 & Nissan Micra Diesel XV            & 23.08\\\\\n\t6 & Toyota Innova Crysta 2.8 GX AT 8S & 11.36\\\\\n\\end{tabular}\n",
            "text/plain": [
              "  Name                              Mileage\n",
              "1 Hyundai Creta 1.6 CRDi SX Option  19.67  \n",
              "2 Honda Jazz V                      18.20  \n",
              "3 Maruti Ertiga VDI                 20.77  \n",
              "4 Audi A4 New 2.0 TDI Multitronic   15.20  \n",
              "5 Nissan Micra Diesel XV            23.08  \n",
              "6 Toyota Innova Crysta 2.8 GX AT 8S 11.36  "
            ]
          },
          "metadata": {}
        }
      ]
    },
    {
      "cell_type": "code",
      "source": [
        "#displaying the rows which have mileage more than 16\n",
        "filtered_data <- filter(clean_car_data, Mileage > 16)\n",
        "write.csv(filtered_data, \"results/filtered_data.csv\")\n",
        "head(filtered_data)"
      ],
      "metadata": {
        "colab": {
          "base_uri": "https://localhost:8080/",
          "height": 524
        },
        "id": "XYL-_4r0qMyd",
        "outputId": "150210b1-a71a-4fff-8952-fa1546c896b2"
      },
      "execution_count": 19,
      "outputs": [
        {
          "output_type": "display_data",
          "data": {
            "text/html": [
              "<table class=\"dataframe\">\n",
              "<caption>A data.frame: 6 × 14</caption>\n",
              "<thead>\n",
              "\t<tr><th></th><th scope=col>X</th><th scope=col>Name</th><th scope=col>Location</th><th scope=col>Year</th><th scope=col>Kilometers_Driven</th><th scope=col>Fuel_Type</th><th scope=col>Transmission</th><th scope=col>Owner_Type</th><th scope=col>Mileage</th><th scope=col>Engine</th><th scope=col>Power</th><th scope=col>Seats</th><th scope=col>Price</th><th scope=col>car_age</th></tr>\n",
              "\t<tr><th></th><th scope=col>&lt;int&gt;</th><th scope=col>&lt;chr&gt;</th><th scope=col>&lt;chr&gt;</th><th scope=col>&lt;int&gt;</th><th scope=col>&lt;int&gt;</th><th scope=col>&lt;chr&gt;</th><th scope=col>&lt;chr&gt;</th><th scope=col>&lt;chr&gt;</th><th scope=col>&lt;dbl&gt;</th><th scope=col>&lt;dbl&gt;</th><th scope=col>&lt;dbl&gt;</th><th scope=col>&lt;int&gt;</th><th scope=col>&lt;dbl&gt;</th><th scope=col>&lt;int&gt;</th></tr>\n",
              "</thead>\n",
              "<tbody>\n",
              "\t<tr><th scope=row>1</th><td>1</td><td>Hyundai Creta 1.6 CRDi SX Option   </td><td>Pune   </td><td>2015</td><td>41000</td><td>Diesel</td><td>Manual</td><td>First </td><td>19.67</td><td>1582</td><td>126.20</td><td>5</td><td>12.50</td><td> 9</td></tr>\n",
              "\t<tr><th scope=row>2</th><td>2</td><td>Honda Jazz V                       </td><td>Chennai</td><td>2011</td><td>46000</td><td>Petrol</td><td>Manual</td><td>First </td><td>18.20</td><td>1199</td><td> 88.70</td><td>5</td><td> 4.50</td><td>13</td></tr>\n",
              "\t<tr><th scope=row>3</th><td>3</td><td>Maruti Ertiga VDI                  </td><td>Chennai</td><td>2012</td><td>87000</td><td>Diesel</td><td>Manual</td><td>First </td><td>20.77</td><td>1248</td><td> 88.76</td><td>7</td><td> 6.00</td><td>12</td></tr>\n",
              "\t<tr><th scope=row>4</th><td>6</td><td>Nissan Micra Diesel XV             </td><td>Jaipur </td><td>2013</td><td>86999</td><td>Diesel</td><td>Manual</td><td>First </td><td>23.08</td><td>1461</td><td> 63.10</td><td>5</td><td> 3.50</td><td>11</td></tr>\n",
              "\t<tr><th scope=row>5</th><td>8</td><td>Volkswagen Vento Diesel Comfortline</td><td>Pune   </td><td>2013</td><td>64430</td><td>Diesel</td><td>Manual</td><td>First </td><td>20.54</td><td>1598</td><td>103.60</td><td>5</td><td> 5.20</td><td>11</td></tr>\n",
              "\t<tr><th scope=row>6</th><td>9</td><td>Tata Indica Vista Quadrajet LS     </td><td>Chennai</td><td>2012</td><td>65932</td><td>Diesel</td><td>Manual</td><td>Second</td><td>22.30</td><td>1248</td><td> 74.00</td><td>5</td><td> 1.95</td><td>12</td></tr>\n",
              "</tbody>\n",
              "</table>\n"
            ],
            "text/markdown": "\nA data.frame: 6 × 14\n\n| <!--/--> | X &lt;int&gt; | Name &lt;chr&gt; | Location &lt;chr&gt; | Year &lt;int&gt; | Kilometers_Driven &lt;int&gt; | Fuel_Type &lt;chr&gt; | Transmission &lt;chr&gt; | Owner_Type &lt;chr&gt; | Mileage &lt;dbl&gt; | Engine &lt;dbl&gt; | Power &lt;dbl&gt; | Seats &lt;int&gt; | Price &lt;dbl&gt; | car_age &lt;int&gt; |\n|---|---|---|---|---|---|---|---|---|---|---|---|---|---|---|\n| 1 | 1 | Hyundai Creta 1.6 CRDi SX Option    | Pune    | 2015 | 41000 | Diesel | Manual | First  | 19.67 | 1582 | 126.20 | 5 | 12.50 |  9 |\n| 2 | 2 | Honda Jazz V                        | Chennai | 2011 | 46000 | Petrol | Manual | First  | 18.20 | 1199 |  88.70 | 5 |  4.50 | 13 |\n| 3 | 3 | Maruti Ertiga VDI                   | Chennai | 2012 | 87000 | Diesel | Manual | First  | 20.77 | 1248 |  88.76 | 7 |  6.00 | 12 |\n| 4 | 6 | Nissan Micra Diesel XV              | Jaipur  | 2013 | 86999 | Diesel | Manual | First  | 23.08 | 1461 |  63.10 | 5 |  3.50 | 11 |\n| 5 | 8 | Volkswagen Vento Diesel Comfortline | Pune    | 2013 | 64430 | Diesel | Manual | First  | 20.54 | 1598 | 103.60 | 5 |  5.20 | 11 |\n| 6 | 9 | Tata Indica Vista Quadrajet LS      | Chennai | 2012 | 65932 | Diesel | Manual | Second | 22.30 | 1248 |  74.00 | 5 |  1.95 | 12 |\n\n",
            "text/latex": "A data.frame: 6 × 14\n\\begin{tabular}{r|llllllllllllll}\n  & X & Name & Location & Year & Kilometers\\_Driven & Fuel\\_Type & Transmission & Owner\\_Type & Mileage & Engine & Power & Seats & Price & car\\_age\\\\\n  & <int> & <chr> & <chr> & <int> & <int> & <chr> & <chr> & <chr> & <dbl> & <dbl> & <dbl> & <int> & <dbl> & <int>\\\\\n\\hline\n\t1 & 1 & Hyundai Creta 1.6 CRDi SX Option    & Pune    & 2015 & 41000 & Diesel & Manual & First  & 19.67 & 1582 & 126.20 & 5 & 12.50 &  9\\\\\n\t2 & 2 & Honda Jazz V                        & Chennai & 2011 & 46000 & Petrol & Manual & First  & 18.20 & 1199 &  88.70 & 5 &  4.50 & 13\\\\\n\t3 & 3 & Maruti Ertiga VDI                   & Chennai & 2012 & 87000 & Diesel & Manual & First  & 20.77 & 1248 &  88.76 & 7 &  6.00 & 12\\\\\n\t4 & 6 & Nissan Micra Diesel XV              & Jaipur  & 2013 & 86999 & Diesel & Manual & First  & 23.08 & 1461 &  63.10 & 5 &  3.50 & 11\\\\\n\t5 & 8 & Volkswagen Vento Diesel Comfortline & Pune    & 2013 & 64430 & Diesel & Manual & First  & 20.54 & 1598 & 103.60 & 5 &  5.20 & 11\\\\\n\t6 & 9 & Tata Indica Vista Quadrajet LS      & Chennai & 2012 & 65932 & Diesel & Manual & Second & 22.30 & 1248 &  74.00 & 5 &  1.95 & 12\\\\\n\\end{tabular}\n",
            "text/plain": [
              "  X Name                                Location Year Kilometers_Driven\n",
              "1 1 Hyundai Creta 1.6 CRDi SX Option    Pune     2015 41000            \n",
              "2 2 Honda Jazz V                        Chennai  2011 46000            \n",
              "3 3 Maruti Ertiga VDI                   Chennai  2012 87000            \n",
              "4 6 Nissan Micra Diesel XV              Jaipur   2013 86999            \n",
              "5 8 Volkswagen Vento Diesel Comfortline Pune     2013 64430            \n",
              "6 9 Tata Indica Vista Quadrajet LS      Chennai  2012 65932            \n",
              "  Fuel_Type Transmission Owner_Type Mileage Engine Power  Seats Price car_age\n",
              "1 Diesel    Manual       First      19.67   1582   126.20 5     12.50  9     \n",
              "2 Petrol    Manual       First      18.20   1199    88.70 5      4.50 13     \n",
              "3 Diesel    Manual       First      20.77   1248    88.76 7      6.00 12     \n",
              "4 Diesel    Manual       First      23.08   1461    63.10 5      3.50 11     \n",
              "5 Diesel    Manual       First      20.54   1598   103.60 5      5.20 11     \n",
              "6 Diesel    Manual       Second     22.30   1248    74.00 5      1.95 12     "
            ]
          },
          "metadata": {}
        }
      ]
    },
    {
      "cell_type": "code",
      "source": [
        "#sorting the data based on the power of the cars\n",
        "arrange(clean_car_data, desc(clean_car_data$Power))"
      ],
      "metadata": {
        "colab": {
          "base_uri": "https://localhost:8080/",
          "height": 1000
        },
        "id": "ueQY04GXqk9e",
        "outputId": "08552b4b-54f3-4124-98fe-95be2d553e62"
      },
      "execution_count": 17,
      "outputs": [
        {
          "output_type": "display_data",
          "data": {
            "text/html": [
              "<table class=\"dataframe\">\n",
              "<caption>A data.frame: 5847 × 14</caption>\n",
              "<thead>\n",
              "\t<tr><th scope=col>X</th><th scope=col>Name</th><th scope=col>Location</th><th scope=col>Year</th><th scope=col>Kilometers_Driven</th><th scope=col>Fuel_Type</th><th scope=col>Transmission</th><th scope=col>Owner_Type</th><th scope=col>Mileage</th><th scope=col>Engine</th><th scope=col>Power</th><th scope=col>Seats</th><th scope=col>Price</th><th scope=col>car_age</th></tr>\n",
              "\t<tr><th scope=col>&lt;int&gt;</th><th scope=col>&lt;chr&gt;</th><th scope=col>&lt;chr&gt;</th><th scope=col>&lt;int&gt;</th><th scope=col>&lt;int&gt;</th><th scope=col>&lt;chr&gt;</th><th scope=col>&lt;chr&gt;</th><th scope=col>&lt;chr&gt;</th><th scope=col>&lt;dbl&gt;</th><th scope=col>&lt;dbl&gt;</th><th scope=col>&lt;dbl&gt;</th><th scope=col>&lt;int&gt;</th><th scope=col>&lt;dbl&gt;</th><th scope=col>&lt;int&gt;</th></tr>\n",
              "</thead>\n",
              "<tbody>\n",
              "\t<tr><td>5781</td><td>Lamborghini Gallardo Coupe              </td><td>Delhi     </td><td>2011</td><td>  6500</td><td>Petrol</td><td>Automatic</td><td>Third </td><td> 6.40</td><td>5204</td><td>560.00</td><td>2</td><td>120.00</td><td>13</td></tr>\n",
              "\t<tr><td>5521</td><td>Bentley Continental Flying Spur         </td><td>Hyderabad </td><td>2006</td><td> 48000</td><td>Petrol</td><td>Automatic</td><td>First </td><td> 8.60</td><td>5998</td><td>552.00</td><td>4</td><td> 59.00</td><td>18</td></tr>\n",
              "\t<tr><td>2100</td><td>Porsche Cayenne Turbo S                 </td><td>Mumbai    </td><td>2010</td><td> 35000</td><td>Petrol</td><td>Automatic</td><td>Second</td><td>11.90</td><td>4806</td><td>550.00</td><td>5</td><td> 32.00</td><td>14</td></tr>\n",
              "\t<tr><td>5088</td><td>Jaguar XJ 5.0 L V8 Supercharged         </td><td>Coimbatore</td><td>2011</td><td> 43686</td><td>Petrol</td><td>Automatic</td><td>First </td><td>10.50</td><td>5000</td><td>503.00</td><td>4</td><td> 50.66</td><td>13</td></tr>\n",
              "\t<tr><td>  70</td><td>Porsche Cayenne 2009-2014 Turbo         </td><td>Mumbai    </td><td>2008</td><td> 73000</td><td>Petrol</td><td>Automatic</td><td>First </td><td> 8.50</td><td>4806</td><td>500.00</td><td>5</td><td> 14.50</td><td>16</td></tr>\n",
              "\t<tr><td>5919</td><td>Jaguar F Type 5.0 V8 S                  </td><td>Hyderabad </td><td>2015</td><td>  8000</td><td>Petrol</td><td>Automatic</td><td>First </td><td>12.50</td><td>5000</td><td>488.10</td><td>2</td><td>100.00</td><td> 9</td></tr>\n",
              "\t<tr><td>4627</td><td>BMW 6 Series 650i Coupe                 </td><td>Kochi     </td><td>2010</td><td> 65329</td><td>Petrol</td><td>Automatic</td><td>First </td><td> 7.94</td><td>4395</td><td>450.00</td><td>4</td><td> 20.72</td><td>14</td></tr>\n",
              "\t<tr><td>4821</td><td>BMW 6 Series 630i Coupe                 </td><td>Mumbai    </td><td>2011</td><td>  5900</td><td>Petrol</td><td>Automatic</td><td>First </td><td> 7.94</td><td>4395</td><td>450.00</td><td>4</td><td> 47.50</td><td>13</td></tr>\n",
              "\t<tr><td> 148</td><td>Audi RS5 Coupe                          </td><td>Mumbai    </td><td>2013</td><td> 23000</td><td>Petrol</td><td>Automatic</td><td>First </td><td>11.05</td><td>2894</td><td>444.00</td><td>4</td><td> 37.00</td><td>11</td></tr>\n",
              "\t<tr><td>4061</td><td>Audi RS5 Coupe                          </td><td>Mumbai    </td><td>2013</td><td> 23312</td><td>Petrol</td><td>Automatic</td><td>First </td><td>11.05</td><td>2894</td><td>444.00</td><td>4</td><td> 40.50</td><td>11</td></tr>\n",
              "\t<tr><td>4691</td><td>Mercedes-Benz SLK-Class 55 AMG          </td><td>Bangalore </td><td>2014</td><td>  3000</td><td>Petrol</td><td>Automatic</td><td>Second</td><td>12.00</td><td>5461</td><td>421.00</td><td>2</td><td> 90.00</td><td>10</td></tr>\n",
              "\t<tr><td>3341</td><td>BMW 7 Series 2007-2012 750Li            </td><td>Kochi     </td><td>2010</td><td> 50161</td><td>Petrol</td><td>Automatic</td><td>First </td><td> 8.77</td><td>4395</td><td>402.00</td><td>5</td><td> 25.93</td><td>14</td></tr>\n",
              "\t<tr><td>4451</td><td>Ford Mustang V8                         </td><td>Kochi     </td><td>2018</td><td> 21290</td><td>Petrol</td><td>Automatic</td><td>First </td><td>13.00</td><td>4951</td><td>395.00</td><td>4</td><td> 56.80</td><td> 6</td></tr>\n",
              "\t<tr><td>2978</td><td>Porsche Panamera 2010 2013 4S           </td><td>Coimbatore</td><td>2010</td><td> 42400</td><td>Petrol</td><td>Automatic</td><td>Third </td><td> 8.00</td><td>4806</td><td>394.30</td><td>4</td><td> 42.91</td><td>14</td></tr>\n",
              "\t<tr><td>5603</td><td>Porsche Panamera 2010 2013 Diesel       </td><td>Delhi     </td><td>2013</td><td> 36400</td><td>Diesel</td><td>Automatic</td><td>First </td><td> 7.50</td><td>4806</td><td>394.30</td><td>4</td><td> 72.00</td><td>11</td></tr>\n",
              "\t<tr><td>4722</td><td>Mercedes-Benz SL-Class SL 500           </td><td>Kolkata   </td><td>2010</td><td> 35000</td><td>Petrol</td><td>Automatic</td><td>First </td><td> 8.10</td><td>5461</td><td>387.30</td><td>2</td><td> 29.50</td><td>14</td></tr>\n",
              "\t<tr><td>5341</td><td>Porsche Cayenne S Diesel                </td><td>Coimbatore</td><td>2016</td><td> 65003</td><td>Diesel</td><td>Automatic</td><td>First </td><td>13.60</td><td>4134</td><td>382.00</td><td>5</td><td> 67.83</td><td> 8</td></tr>\n",
              "\t<tr><td> 418</td><td>Mercedes-Benz GLC 43 AMG Coupe          </td><td>Coimbatore</td><td>2018</td><td> 22397</td><td>Petrol</td><td>Automatic</td><td>First </td><td>11.50</td><td>2996</td><td>367.00</td><td>5</td><td> 70.99</td><td> 6</td></tr>\n",
              "\t<tr><td> 589</td><td>Mercedes-Benz S Class 2005 2013 S 350 L </td><td>Bangalore </td><td>2006</td><td> 47088</td><td>Petrol</td><td>Automatic</td><td>Second</td><td>10.13</td><td>3498</td><td>364.90</td><td>5</td><td> 19.00</td><td>18</td></tr>\n",
              "\t<tr><td>1930</td><td>Mercedes-Benz S Class 2005 2013 S 350 L </td><td>Mumbai    </td><td>2007</td><td> 55000</td><td>Petrol</td><td>Automatic</td><td>Third </td><td>10.13</td><td>3498</td><td>364.90</td><td>5</td><td>  9.99</td><td>17</td></tr>\n",
              "\t<tr><td>4342</td><td>Mercedes-Benz S Class 2005 2013 S 350 L </td><td>Mumbai    </td><td>2006</td><td>103000</td><td>Petrol</td><td>Automatic</td><td>First </td><td>10.13</td><td>3498</td><td>364.90</td><td>5</td><td>  8.85</td><td>18</td></tr>\n",
              "\t<tr><td> 152</td><td>Mercedes-Benz S Class 2005 2013 S 500   </td><td>Kolkata   </td><td>2010</td><td> 35277</td><td>Petrol</td><td>Automatic</td><td>First </td><td> 7.81</td><td>5461</td><td>362.90</td><td>5</td><td> 30.00</td><td>14</td></tr>\n",
              "\t<tr><td> 134</td><td>Mercedes-Benz SLC 43 AMG                </td><td>Kolkata   </td><td>2017</td><td> 13372</td><td>Petrol</td><td>Automatic</td><td>First </td><td>19.00</td><td>2996</td><td>362.07</td><td>2</td><td> 54.00</td><td> 7</td></tr>\n",
              "\t<tr><td>2095</td><td>Mercedes-Benz SLC 43 AMG                </td><td>Coimbatore</td><td>2019</td><td>  2526</td><td>Petrol</td><td>Automatic</td><td>First </td><td>19.00</td><td>2996</td><td>362.07</td><td>2</td><td> 83.96</td><td> 5</td></tr>\n",
              "\t<tr><td>3132</td><td>Porsche Cayenne Base                    </td><td>Kochi     </td><td>2019</td><td> 14298</td><td>Petrol</td><td>Automatic</td><td>First </td><td>13.33</td><td>2995</td><td>340.00</td><td>5</td><td>  2.02</td><td> 5</td></tr>\n",
              "\t<tr><td>3242</td><td>Land Rover Range Rover Vogue SE 4.4 SDV8</td><td>Bangalore </td><td>2012</td><td> 63000</td><td>Diesel</td><td>Automatic</td><td>Second</td><td>11.49</td><td>4367</td><td>335.30</td><td>5</td><td> 65.00</td><td>12</td></tr>\n",
              "\t<tr><td>5416</td><td>Land Rover Range Rover Vogue SE 4.4 SDV8</td><td>Coimbatore</td><td>2013</td><td> 75995</td><td>Diesel</td><td>Automatic</td><td>Second</td><td>11.49</td><td>4367</td><td>335.30</td><td>5</td><td> 65.81</td><td>11</td></tr>\n",
              "\t<tr><td> 459</td><td>Audi Q7 4.2 TDI Quattro Technology      </td><td>Coimbatore</td><td>2016</td><td> 51002</td><td>Diesel</td><td>Automatic</td><td>First </td><td>11.33</td><td>4134</td><td>335.20</td><td>7</td><td> 48.91</td><td> 8</td></tr>\n",
              "\t<tr><td> 586</td><td>Audi Q7 4.2 TDI Quattro Technology      </td><td>Kochi     </td><td>2014</td><td> 79926</td><td>Diesel</td><td>Automatic</td><td>First </td><td>11.33</td><td>4134</td><td>335.20</td><td>7</td><td> 29.77</td><td>10</td></tr>\n",
              "\t<tr><td>1093</td><td>Audi Q7 4.2 TDI Quattro Technology      </td><td>Bangalore </td><td>2014</td><td> 50000</td><td>Diesel</td><td>Automatic</td><td>First </td><td>11.33</td><td>4134</td><td>335.20</td><td>7</td><td> 51.00</td><td>10</td></tr>\n",
              "\t<tr><td>⋮</td><td>⋮</td><td>⋮</td><td>⋮</td><td>⋮</td><td>⋮</td><td>⋮</td><td>⋮</td><td>⋮</td><td>⋮</td><td>⋮</td><td>⋮</td><td>⋮</td><td>⋮</td></tr>\n",
              "\t<tr><td>3756</td><td>Maruti 800 AC Uniq                        </td><td>Jaipur    </td><td>2009</td><td> 22100</td><td>Petrol</td><td>Manual</td><td>Second</td><td>16.1</td><td> 796</td><td>37.0</td><td>4</td><td>0.80</td><td>15</td></tr>\n",
              "\t<tr><td>3902</td><td>Maruti 800 AC                             </td><td>Jaipur    </td><td>2010</td><td> 70000</td><td>Petrol</td><td>Manual</td><td>Second</td><td>16.1</td><td> 796</td><td>37.0</td><td>4</td><td>0.90</td><td>14</td></tr>\n",
              "\t<tr><td>3942</td><td>Maruti 800 Std BSIII                      </td><td>Jaipur    </td><td>2002</td><td> 53500</td><td>Petrol</td><td>Manual</td><td>Second</td><td>16.1</td><td> 796</td><td>37.0</td><td>4</td><td>0.63</td><td>22</td></tr>\n",
              "\t<tr><td>5657</td><td>Maruti 800 Std                            </td><td>Jaipur    </td><td>2002</td><td> 75000</td><td>Petrol</td><td>Manual</td><td>First </td><td>16.1</td><td> 796</td><td>37.0</td><td>4</td><td>0.51</td><td>22</td></tr>\n",
              "\t<tr><td>5926</td><td>Maruti 800 DX BSII                        </td><td>Pune      </td><td>2000</td><td> 78000</td><td>Petrol</td><td>Manual</td><td>First </td><td>16.1</td><td> 796</td><td>37.0</td><td>4</td><td>0.55</td><td>24</td></tr>\n",
              "\t<tr><td>1221</td><td>Ambassador Classic Nova Diesel            </td><td>Chennai   </td><td>2003</td><td> 80000</td><td>Diesel</td><td>Manual</td><td>Third </td><td>12.8</td><td>1489</td><td>35.5</td><td>5</td><td>1.35</td><td>21</td></tr>\n",
              "\t<tr><td> 105</td><td>Maruti Omni 5 Str STD                     </td><td>Coimbatore</td><td>2010</td><td> 93850</td><td>Petrol</td><td>Manual</td><td>First </td><td>14.0</td><td> 796</td><td>35.0</td><td>5</td><td>2.41</td><td>14</td></tr>\n",
              "\t<tr><td> 257</td><td>Maruti Omni MPI CARGO BSIII W/ IMMOBILISER</td><td>Jaipur    </td><td>2011</td><td> 35000</td><td>Petrol</td><td>Manual</td><td>Third </td><td>19.7</td><td> 796</td><td>35.0</td><td>5</td><td>1.85</td><td>13</td></tr>\n",
              "\t<tr><td> 313</td><td>Maruti Omni 8 Seater BSIV                 </td><td>Hyderabad </td><td>2012</td><td> 71791</td><td>Petrol</td><td>Manual</td><td>First </td><td>14.0</td><td> 796</td><td>35.0</td><td>5</td><td>2.05</td><td>12</td></tr>\n",
              "\t<tr><td> 602</td><td>Maruti Omni 8 Seater BSII                 </td><td>Pune      </td><td>2010</td><td> 60000</td><td>Petrol</td><td>Manual</td><td>First </td><td>19.7</td><td> 796</td><td>35.0</td><td>8</td><td>1.45</td><td>14</td></tr>\n",
              "\t<tr><td>1127</td><td>Maruti Omni 8 Seater BSIV                 </td><td>Coimbatore</td><td>2016</td><td> 55137</td><td>Petrol</td><td>Manual</td><td>First </td><td>14.0</td><td> 796</td><td>35.0</td><td>5</td><td>3.11</td><td> 8</td></tr>\n",
              "\t<tr><td>1546</td><td>Maruti Omni 8 Seater BSIV                 </td><td>Hyderabad </td><td>2013</td><td> 34834</td><td>Petrol</td><td>Manual</td><td>First </td><td>14.0</td><td> 796</td><td>35.0</td><td>5</td><td>2.60</td><td>11</td></tr>\n",
              "\t<tr><td>1713</td><td>Tata Nano Lx                              </td><td>Pune      </td><td>2011</td><td> 65000</td><td>Petrol</td><td>Manual</td><td>Second</td><td>26.0</td><td> 624</td><td>35.0</td><td>4</td><td>0.44</td><td>13</td></tr>\n",
              "\t<tr><td>1801</td><td>Tata Nano Lx BSIV                         </td><td>Kochi     </td><td>2012</td><td>  4187</td><td>Petrol</td><td>Manual</td><td>First </td><td>26.0</td><td> 624</td><td>35.0</td><td>4</td><td>1.38</td><td>12</td></tr>\n",
              "\t<tr><td>2252</td><td>Maruti Omni 8 Seater BSIV                 </td><td>Hyderabad </td><td>2015</td><td> 52950</td><td>Petrol</td><td>Manual</td><td>First </td><td>14.0</td><td> 796</td><td>35.0</td><td>5</td><td>2.35</td><td> 9</td></tr>\n",
              "\t<tr><td>2293</td><td>Tata Nano Lx                              </td><td>Coimbatore</td><td>2013</td><td> 37287</td><td>Petrol</td><td>Manual</td><td>First </td><td>26.0</td><td> 624</td><td>35.0</td><td>4</td><td>1.74</td><td>11</td></tr>\n",
              "\t<tr><td>2491</td><td>Maruti Omni 8 Seater BSIV                 </td><td>Mumbai    </td><td>2011</td><td> 39000</td><td>Petrol</td><td>Manual</td><td>First </td><td>14.0</td><td> 796</td><td>35.0</td><td>5</td><td>1.50</td><td>13</td></tr>\n",
              "\t<tr><td>2605</td><td>Tata Nano Cx                              </td><td>Jaipur    </td><td>2010</td><td> 57000</td><td>Petrol</td><td>Manual</td><td>First </td><td>26.0</td><td> 624</td><td>35.0</td><td>4</td><td>0.50</td><td>14</td></tr>\n",
              "\t<tr><td>3107</td><td>Maruti Omni 8 Seater BSIV                 </td><td>Hyderabad </td><td>2017</td><td> 21260</td><td>Petrol</td><td>Manual</td><td>First </td><td>14.0</td><td> 796</td><td>35.0</td><td>5</td><td>2.90</td><td> 7</td></tr>\n",
              "\t<tr><td>3155</td><td>Maruti Omni 8 Seater BSII                 </td><td>Jaipur    </td><td>2012</td><td> 65000</td><td>Petrol</td><td>Manual</td><td>First </td><td>19.7</td><td> 796</td><td>35.0</td><td>8</td><td>1.55</td><td>12</td></tr>\n",
              "\t<tr><td>3742</td><td>Maruti Omni 8 Seater BSIV                 </td><td>Hyderabad </td><td>2017</td><td> 24571</td><td>Petrol</td><td>Manual</td><td>First </td><td>14.0</td><td> 796</td><td>35.0</td><td>5</td><td>2.90</td><td> 7</td></tr>\n",
              "\t<tr><td>4806</td><td>Maruti Omni 8 Seater BSII                 </td><td>Jaipur    </td><td>2004</td><td> 66624</td><td>Petrol</td><td>Manual</td><td>Third </td><td>19.7</td><td> 796</td><td>35.0</td><td>8</td><td>0.85</td><td>20</td></tr>\n",
              "\t<tr><td>5690</td><td>Maruti Omni 5 Seater BSIV                 </td><td>Coimbatore</td><td>2019</td><td>  4721</td><td>Petrol</td><td>Manual</td><td>First </td><td>14.0</td><td> 796</td><td>35.0</td><td>5</td><td>4.11</td><td> 5</td></tr>\n",
              "\t<tr><td> 790</td><td>Maruti Omni E 8 Str STD                   </td><td>Hyderabad </td><td>2013</td><td> 26875</td><td>Petrol</td><td>Manual</td><td>First </td><td>16.8</td><td> 796</td><td>34.2</td><td>8</td><td>2.35</td><td>11</td></tr>\n",
              "\t<tr><td>1008</td><td>Maruti Omni E MPI STD BS IV               </td><td>Kochi     </td><td>2019</td><td> 11571</td><td>Petrol</td><td>Manual</td><td>First </td><td>16.8</td><td> 796</td><td>34.2</td><td>8</td><td>3.80</td><td> 5</td></tr>\n",
              "\t<tr><td>1912</td><td>Maruti Omni E MPI STD BS IV               </td><td>Mumbai    </td><td>2013</td><td> 11734</td><td>Petrol</td><td>Manual</td><td>First </td><td>16.8</td><td> 796</td><td>34.2</td><td>8</td><td>2.25</td><td>11</td></tr>\n",
              "\t<tr><td>2196</td><td>Maruti Omni MPI STD BSIV                  </td><td>Coimbatore</td><td>2017</td><td> 15473</td><td>Petrol</td><td>Manual</td><td>First </td><td>16.8</td><td> 796</td><td>34.2</td><td>5</td><td>3.58</td><td> 7</td></tr>\n",
              "\t<tr><td>2849</td><td>Maruti Omni MPI CARGO BSIV                </td><td>Kolkata   </td><td>2015</td><td> 23000</td><td>Petrol</td><td>Manual</td><td>First </td><td>16.8</td><td> 796</td><td>34.2</td><td>5</td><td>1.50</td><td> 9</td></tr>\n",
              "\t<tr><td>3091</td><td>Maruti Omni E MPI STD BS IV               </td><td>Jaipur    </td><td>2015</td><td> 15000</td><td>Petrol</td><td>Manual</td><td>First </td><td>16.8</td><td> 796</td><td>34.2</td><td>8</td><td>2.35</td><td> 9</td></tr>\n",
              "\t<tr><td>3321</td><td>Maruti Omni MPI STD BSIV                  </td><td>Jaipur    </td><td>2012</td><td>126000</td><td>Petrol</td><td>Manual</td><td>First </td><td>16.8</td><td> 796</td><td>34.2</td><td>5</td><td>1.60</td><td>12</td></tr>\n",
              "</tbody>\n",
              "</table>\n"
            ],
            "text/markdown": "\nA data.frame: 5847 × 14\n\n| X &lt;int&gt; | Name &lt;chr&gt; | Location &lt;chr&gt; | Year &lt;int&gt; | Kilometers_Driven &lt;int&gt; | Fuel_Type &lt;chr&gt; | Transmission &lt;chr&gt; | Owner_Type &lt;chr&gt; | Mileage &lt;dbl&gt; | Engine &lt;dbl&gt; | Power &lt;dbl&gt; | Seats &lt;int&gt; | Price &lt;dbl&gt; | car_age &lt;int&gt; |\n|---|---|---|---|---|---|---|---|---|---|---|---|---|---|\n| 5781 | Lamborghini Gallardo Coupe               | Delhi      | 2011 |   6500 | Petrol | Automatic | Third  |  6.40 | 5204 | 560.00 | 2 | 120.00 | 13 |\n| 5521 | Bentley Continental Flying Spur          | Hyderabad  | 2006 |  48000 | Petrol | Automatic | First  |  8.60 | 5998 | 552.00 | 4 |  59.00 | 18 |\n| 2100 | Porsche Cayenne Turbo S                  | Mumbai     | 2010 |  35000 | Petrol | Automatic | Second | 11.90 | 4806 | 550.00 | 5 |  32.00 | 14 |\n| 5088 | Jaguar XJ 5.0 L V8 Supercharged          | Coimbatore | 2011 |  43686 | Petrol | Automatic | First  | 10.50 | 5000 | 503.00 | 4 |  50.66 | 13 |\n|   70 | Porsche Cayenne 2009-2014 Turbo          | Mumbai     | 2008 |  73000 | Petrol | Automatic | First  |  8.50 | 4806 | 500.00 | 5 |  14.50 | 16 |\n| 5919 | Jaguar F Type 5.0 V8 S                   | Hyderabad  | 2015 |   8000 | Petrol | Automatic | First  | 12.50 | 5000 | 488.10 | 2 | 100.00 |  9 |\n| 4627 | BMW 6 Series 650i Coupe                  | Kochi      | 2010 |  65329 | Petrol | Automatic | First  |  7.94 | 4395 | 450.00 | 4 |  20.72 | 14 |\n| 4821 | BMW 6 Series 630i Coupe                  | Mumbai     | 2011 |   5900 | Petrol | Automatic | First  |  7.94 | 4395 | 450.00 | 4 |  47.50 | 13 |\n|  148 | Audi RS5 Coupe                           | Mumbai     | 2013 |  23000 | Petrol | Automatic | First  | 11.05 | 2894 | 444.00 | 4 |  37.00 | 11 |\n| 4061 | Audi RS5 Coupe                           | Mumbai     | 2013 |  23312 | Petrol | Automatic | First  | 11.05 | 2894 | 444.00 | 4 |  40.50 | 11 |\n| 4691 | Mercedes-Benz SLK-Class 55 AMG           | Bangalore  | 2014 |   3000 | Petrol | Automatic | Second | 12.00 | 5461 | 421.00 | 2 |  90.00 | 10 |\n| 3341 | BMW 7 Series 2007-2012 750Li             | Kochi      | 2010 |  50161 | Petrol | Automatic | First  |  8.77 | 4395 | 402.00 | 5 |  25.93 | 14 |\n| 4451 | Ford Mustang V8                          | Kochi      | 2018 |  21290 | Petrol | Automatic | First  | 13.00 | 4951 | 395.00 | 4 |  56.80 |  6 |\n| 2978 | Porsche Panamera 2010 2013 4S            | Coimbatore | 2010 |  42400 | Petrol | Automatic | Third  |  8.00 | 4806 | 394.30 | 4 |  42.91 | 14 |\n| 5603 | Porsche Panamera 2010 2013 Diesel        | Delhi      | 2013 |  36400 | Diesel | Automatic | First  |  7.50 | 4806 | 394.30 | 4 |  72.00 | 11 |\n| 4722 | Mercedes-Benz SL-Class SL 500            | Kolkata    | 2010 |  35000 | Petrol | Automatic | First  |  8.10 | 5461 | 387.30 | 2 |  29.50 | 14 |\n| 5341 | Porsche Cayenne S Diesel                 | Coimbatore | 2016 |  65003 | Diesel | Automatic | First  | 13.60 | 4134 | 382.00 | 5 |  67.83 |  8 |\n|  418 | Mercedes-Benz GLC 43 AMG Coupe           | Coimbatore | 2018 |  22397 | Petrol | Automatic | First  | 11.50 | 2996 | 367.00 | 5 |  70.99 |  6 |\n|  589 | Mercedes-Benz S Class 2005 2013 S 350 L  | Bangalore  | 2006 |  47088 | Petrol | Automatic | Second | 10.13 | 3498 | 364.90 | 5 |  19.00 | 18 |\n| 1930 | Mercedes-Benz S Class 2005 2013 S 350 L  | Mumbai     | 2007 |  55000 | Petrol | Automatic | Third  | 10.13 | 3498 | 364.90 | 5 |   9.99 | 17 |\n| 4342 | Mercedes-Benz S Class 2005 2013 S 350 L  | Mumbai     | 2006 | 103000 | Petrol | Automatic | First  | 10.13 | 3498 | 364.90 | 5 |   8.85 | 18 |\n|  152 | Mercedes-Benz S Class 2005 2013 S 500    | Kolkata    | 2010 |  35277 | Petrol | Automatic | First  |  7.81 | 5461 | 362.90 | 5 |  30.00 | 14 |\n|  134 | Mercedes-Benz SLC 43 AMG                 | Kolkata    | 2017 |  13372 | Petrol | Automatic | First  | 19.00 | 2996 | 362.07 | 2 |  54.00 |  7 |\n| 2095 | Mercedes-Benz SLC 43 AMG                 | Coimbatore | 2019 |   2526 | Petrol | Automatic | First  | 19.00 | 2996 | 362.07 | 2 |  83.96 |  5 |\n| 3132 | Porsche Cayenne Base                     | Kochi      | 2019 |  14298 | Petrol | Automatic | First  | 13.33 | 2995 | 340.00 | 5 |   2.02 |  5 |\n| 3242 | Land Rover Range Rover Vogue SE 4.4 SDV8 | Bangalore  | 2012 |  63000 | Diesel | Automatic | Second | 11.49 | 4367 | 335.30 | 5 |  65.00 | 12 |\n| 5416 | Land Rover Range Rover Vogue SE 4.4 SDV8 | Coimbatore | 2013 |  75995 | Diesel | Automatic | Second | 11.49 | 4367 | 335.30 | 5 |  65.81 | 11 |\n|  459 | Audi Q7 4.2 TDI Quattro Technology       | Coimbatore | 2016 |  51002 | Diesel | Automatic | First  | 11.33 | 4134 | 335.20 | 7 |  48.91 |  8 |\n|  586 | Audi Q7 4.2 TDI Quattro Technology       | Kochi      | 2014 |  79926 | Diesel | Automatic | First  | 11.33 | 4134 | 335.20 | 7 |  29.77 | 10 |\n| 1093 | Audi Q7 4.2 TDI Quattro Technology       | Bangalore  | 2014 |  50000 | Diesel | Automatic | First  | 11.33 | 4134 | 335.20 | 7 |  51.00 | 10 |\n| ⋮ | ⋮ | ⋮ | ⋮ | ⋮ | ⋮ | ⋮ | ⋮ | ⋮ | ⋮ | ⋮ | ⋮ | ⋮ | ⋮ |\n| 3756 | Maruti 800 AC Uniq                         | Jaipur     | 2009 |  22100 | Petrol | Manual | Second | 16.1 |  796 | 37.0 | 4 | 0.80 | 15 |\n| 3902 | Maruti 800 AC                              | Jaipur     | 2010 |  70000 | Petrol | Manual | Second | 16.1 |  796 | 37.0 | 4 | 0.90 | 14 |\n| 3942 | Maruti 800 Std BSIII                       | Jaipur     | 2002 |  53500 | Petrol | Manual | Second | 16.1 |  796 | 37.0 | 4 | 0.63 | 22 |\n| 5657 | Maruti 800 Std                             | Jaipur     | 2002 |  75000 | Petrol | Manual | First  | 16.1 |  796 | 37.0 | 4 | 0.51 | 22 |\n| 5926 | Maruti 800 DX BSII                         | Pune       | 2000 |  78000 | Petrol | Manual | First  | 16.1 |  796 | 37.0 | 4 | 0.55 | 24 |\n| 1221 | Ambassador Classic Nova Diesel             | Chennai    | 2003 |  80000 | Diesel | Manual | Third  | 12.8 | 1489 | 35.5 | 5 | 1.35 | 21 |\n|  105 | Maruti Omni 5 Str STD                      | Coimbatore | 2010 |  93850 | Petrol | Manual | First  | 14.0 |  796 | 35.0 | 5 | 2.41 | 14 |\n|  257 | Maruti Omni MPI CARGO BSIII W/ IMMOBILISER | Jaipur     | 2011 |  35000 | Petrol | Manual | Third  | 19.7 |  796 | 35.0 | 5 | 1.85 | 13 |\n|  313 | Maruti Omni 8 Seater BSIV                  | Hyderabad  | 2012 |  71791 | Petrol | Manual | First  | 14.0 |  796 | 35.0 | 5 | 2.05 | 12 |\n|  602 | Maruti Omni 8 Seater BSII                  | Pune       | 2010 |  60000 | Petrol | Manual | First  | 19.7 |  796 | 35.0 | 8 | 1.45 | 14 |\n| 1127 | Maruti Omni 8 Seater BSIV                  | Coimbatore | 2016 |  55137 | Petrol | Manual | First  | 14.0 |  796 | 35.0 | 5 | 3.11 |  8 |\n| 1546 | Maruti Omni 8 Seater BSIV                  | Hyderabad  | 2013 |  34834 | Petrol | Manual | First  | 14.0 |  796 | 35.0 | 5 | 2.60 | 11 |\n| 1713 | Tata Nano Lx                               | Pune       | 2011 |  65000 | Petrol | Manual | Second | 26.0 |  624 | 35.0 | 4 | 0.44 | 13 |\n| 1801 | Tata Nano Lx BSIV                          | Kochi      | 2012 |   4187 | Petrol | Manual | First  | 26.0 |  624 | 35.0 | 4 | 1.38 | 12 |\n| 2252 | Maruti Omni 8 Seater BSIV                  | Hyderabad  | 2015 |  52950 | Petrol | Manual | First  | 14.0 |  796 | 35.0 | 5 | 2.35 |  9 |\n| 2293 | Tata Nano Lx                               | Coimbatore | 2013 |  37287 | Petrol | Manual | First  | 26.0 |  624 | 35.0 | 4 | 1.74 | 11 |\n| 2491 | Maruti Omni 8 Seater BSIV                  | Mumbai     | 2011 |  39000 | Petrol | Manual | First  | 14.0 |  796 | 35.0 | 5 | 1.50 | 13 |\n| 2605 | Tata Nano Cx                               | Jaipur     | 2010 |  57000 | Petrol | Manual | First  | 26.0 |  624 | 35.0 | 4 | 0.50 | 14 |\n| 3107 | Maruti Omni 8 Seater BSIV                  | Hyderabad  | 2017 |  21260 | Petrol | Manual | First  | 14.0 |  796 | 35.0 | 5 | 2.90 |  7 |\n| 3155 | Maruti Omni 8 Seater BSII                  | Jaipur     | 2012 |  65000 | Petrol | Manual | First  | 19.7 |  796 | 35.0 | 8 | 1.55 | 12 |\n| 3742 | Maruti Omni 8 Seater BSIV                  | Hyderabad  | 2017 |  24571 | Petrol | Manual | First  | 14.0 |  796 | 35.0 | 5 | 2.90 |  7 |\n| 4806 | Maruti Omni 8 Seater BSII                  | Jaipur     | 2004 |  66624 | Petrol | Manual | Third  | 19.7 |  796 | 35.0 | 8 | 0.85 | 20 |\n| 5690 | Maruti Omni 5 Seater BSIV                  | Coimbatore | 2019 |   4721 | Petrol | Manual | First  | 14.0 |  796 | 35.0 | 5 | 4.11 |  5 |\n|  790 | Maruti Omni E 8 Str STD                    | Hyderabad  | 2013 |  26875 | Petrol | Manual | First  | 16.8 |  796 | 34.2 | 8 | 2.35 | 11 |\n| 1008 | Maruti Omni E MPI STD BS IV                | Kochi      | 2019 |  11571 | Petrol | Manual | First  | 16.8 |  796 | 34.2 | 8 | 3.80 |  5 |\n| 1912 | Maruti Omni E MPI STD BS IV                | Mumbai     | 2013 |  11734 | Petrol | Manual | First  | 16.8 |  796 | 34.2 | 8 | 2.25 | 11 |\n| 2196 | Maruti Omni MPI STD BSIV                   | Coimbatore | 2017 |  15473 | Petrol | Manual | First  | 16.8 |  796 | 34.2 | 5 | 3.58 |  7 |\n| 2849 | Maruti Omni MPI CARGO BSIV                 | Kolkata    | 2015 |  23000 | Petrol | Manual | First  | 16.8 |  796 | 34.2 | 5 | 1.50 |  9 |\n| 3091 | Maruti Omni E MPI STD BS IV                | Jaipur     | 2015 |  15000 | Petrol | Manual | First  | 16.8 |  796 | 34.2 | 8 | 2.35 |  9 |\n| 3321 | Maruti Omni MPI STD BSIV                   | Jaipur     | 2012 | 126000 | Petrol | Manual | First  | 16.8 |  796 | 34.2 | 5 | 1.60 | 12 |\n\n",
            "text/latex": "A data.frame: 5847 × 14\n\\begin{tabular}{llllllllllllll}\n X & Name & Location & Year & Kilometers\\_Driven & Fuel\\_Type & Transmission & Owner\\_Type & Mileage & Engine & Power & Seats & Price & car\\_age\\\\\n <int> & <chr> & <chr> & <int> & <int> & <chr> & <chr> & <chr> & <dbl> & <dbl> & <dbl> & <int> & <dbl> & <int>\\\\\n\\hline\n\t 5781 & Lamborghini Gallardo Coupe               & Delhi      & 2011 &   6500 & Petrol & Automatic & Third  &  6.40 & 5204 & 560.00 & 2 & 120.00 & 13\\\\\n\t 5521 & Bentley Continental Flying Spur          & Hyderabad  & 2006 &  48000 & Petrol & Automatic & First  &  8.60 & 5998 & 552.00 & 4 &  59.00 & 18\\\\\n\t 2100 & Porsche Cayenne Turbo S                  & Mumbai     & 2010 &  35000 & Petrol & Automatic & Second & 11.90 & 4806 & 550.00 & 5 &  32.00 & 14\\\\\n\t 5088 & Jaguar XJ 5.0 L V8 Supercharged          & Coimbatore & 2011 &  43686 & Petrol & Automatic & First  & 10.50 & 5000 & 503.00 & 4 &  50.66 & 13\\\\\n\t   70 & Porsche Cayenne 2009-2014 Turbo          & Mumbai     & 2008 &  73000 & Petrol & Automatic & First  &  8.50 & 4806 & 500.00 & 5 &  14.50 & 16\\\\\n\t 5919 & Jaguar F Type 5.0 V8 S                   & Hyderabad  & 2015 &   8000 & Petrol & Automatic & First  & 12.50 & 5000 & 488.10 & 2 & 100.00 &  9\\\\\n\t 4627 & BMW 6 Series 650i Coupe                  & Kochi      & 2010 &  65329 & Petrol & Automatic & First  &  7.94 & 4395 & 450.00 & 4 &  20.72 & 14\\\\\n\t 4821 & BMW 6 Series 630i Coupe                  & Mumbai     & 2011 &   5900 & Petrol & Automatic & First  &  7.94 & 4395 & 450.00 & 4 &  47.50 & 13\\\\\n\t  148 & Audi RS5 Coupe                           & Mumbai     & 2013 &  23000 & Petrol & Automatic & First  & 11.05 & 2894 & 444.00 & 4 &  37.00 & 11\\\\\n\t 4061 & Audi RS5 Coupe                           & Mumbai     & 2013 &  23312 & Petrol & Automatic & First  & 11.05 & 2894 & 444.00 & 4 &  40.50 & 11\\\\\n\t 4691 & Mercedes-Benz SLK-Class 55 AMG           & Bangalore  & 2014 &   3000 & Petrol & Automatic & Second & 12.00 & 5461 & 421.00 & 2 &  90.00 & 10\\\\\n\t 3341 & BMW 7 Series 2007-2012 750Li             & Kochi      & 2010 &  50161 & Petrol & Automatic & First  &  8.77 & 4395 & 402.00 & 5 &  25.93 & 14\\\\\n\t 4451 & Ford Mustang V8                          & Kochi      & 2018 &  21290 & Petrol & Automatic & First  & 13.00 & 4951 & 395.00 & 4 &  56.80 &  6\\\\\n\t 2978 & Porsche Panamera 2010 2013 4S            & Coimbatore & 2010 &  42400 & Petrol & Automatic & Third  &  8.00 & 4806 & 394.30 & 4 &  42.91 & 14\\\\\n\t 5603 & Porsche Panamera 2010 2013 Diesel        & Delhi      & 2013 &  36400 & Diesel & Automatic & First  &  7.50 & 4806 & 394.30 & 4 &  72.00 & 11\\\\\n\t 4722 & Mercedes-Benz SL-Class SL 500            & Kolkata    & 2010 &  35000 & Petrol & Automatic & First  &  8.10 & 5461 & 387.30 & 2 &  29.50 & 14\\\\\n\t 5341 & Porsche Cayenne S Diesel                 & Coimbatore & 2016 &  65003 & Diesel & Automatic & First  & 13.60 & 4134 & 382.00 & 5 &  67.83 &  8\\\\\n\t  418 & Mercedes-Benz GLC 43 AMG Coupe           & Coimbatore & 2018 &  22397 & Petrol & Automatic & First  & 11.50 & 2996 & 367.00 & 5 &  70.99 &  6\\\\\n\t  589 & Mercedes-Benz S Class 2005 2013 S 350 L  & Bangalore  & 2006 &  47088 & Petrol & Automatic & Second & 10.13 & 3498 & 364.90 & 5 &  19.00 & 18\\\\\n\t 1930 & Mercedes-Benz S Class 2005 2013 S 350 L  & Mumbai     & 2007 &  55000 & Petrol & Automatic & Third  & 10.13 & 3498 & 364.90 & 5 &   9.99 & 17\\\\\n\t 4342 & Mercedes-Benz S Class 2005 2013 S 350 L  & Mumbai     & 2006 & 103000 & Petrol & Automatic & First  & 10.13 & 3498 & 364.90 & 5 &   8.85 & 18\\\\\n\t  152 & Mercedes-Benz S Class 2005 2013 S 500    & Kolkata    & 2010 &  35277 & Petrol & Automatic & First  &  7.81 & 5461 & 362.90 & 5 &  30.00 & 14\\\\\n\t  134 & Mercedes-Benz SLC 43 AMG                 & Kolkata    & 2017 &  13372 & Petrol & Automatic & First  & 19.00 & 2996 & 362.07 & 2 &  54.00 &  7\\\\\n\t 2095 & Mercedes-Benz SLC 43 AMG                 & Coimbatore & 2019 &   2526 & Petrol & Automatic & First  & 19.00 & 2996 & 362.07 & 2 &  83.96 &  5\\\\\n\t 3132 & Porsche Cayenne Base                     & Kochi      & 2019 &  14298 & Petrol & Automatic & First  & 13.33 & 2995 & 340.00 & 5 &   2.02 &  5\\\\\n\t 3242 & Land Rover Range Rover Vogue SE 4.4 SDV8 & Bangalore  & 2012 &  63000 & Diesel & Automatic & Second & 11.49 & 4367 & 335.30 & 5 &  65.00 & 12\\\\\n\t 5416 & Land Rover Range Rover Vogue SE 4.4 SDV8 & Coimbatore & 2013 &  75995 & Diesel & Automatic & Second & 11.49 & 4367 & 335.30 & 5 &  65.81 & 11\\\\\n\t  459 & Audi Q7 4.2 TDI Quattro Technology       & Coimbatore & 2016 &  51002 & Diesel & Automatic & First  & 11.33 & 4134 & 335.20 & 7 &  48.91 &  8\\\\\n\t  586 & Audi Q7 4.2 TDI Quattro Technology       & Kochi      & 2014 &  79926 & Diesel & Automatic & First  & 11.33 & 4134 & 335.20 & 7 &  29.77 & 10\\\\\n\t 1093 & Audi Q7 4.2 TDI Quattro Technology       & Bangalore  & 2014 &  50000 & Diesel & Automatic & First  & 11.33 & 4134 & 335.20 & 7 &  51.00 & 10\\\\\n\t ⋮ & ⋮ & ⋮ & ⋮ & ⋮ & ⋮ & ⋮ & ⋮ & ⋮ & ⋮ & ⋮ & ⋮ & ⋮ & ⋮\\\\\n\t 3756 & Maruti 800 AC Uniq                         & Jaipur     & 2009 &  22100 & Petrol & Manual & Second & 16.1 &  796 & 37.0 & 4 & 0.80 & 15\\\\\n\t 3902 & Maruti 800 AC                              & Jaipur     & 2010 &  70000 & Petrol & Manual & Second & 16.1 &  796 & 37.0 & 4 & 0.90 & 14\\\\\n\t 3942 & Maruti 800 Std BSIII                       & Jaipur     & 2002 &  53500 & Petrol & Manual & Second & 16.1 &  796 & 37.0 & 4 & 0.63 & 22\\\\\n\t 5657 & Maruti 800 Std                             & Jaipur     & 2002 &  75000 & Petrol & Manual & First  & 16.1 &  796 & 37.0 & 4 & 0.51 & 22\\\\\n\t 5926 & Maruti 800 DX BSII                         & Pune       & 2000 &  78000 & Petrol & Manual & First  & 16.1 &  796 & 37.0 & 4 & 0.55 & 24\\\\\n\t 1221 & Ambassador Classic Nova Diesel             & Chennai    & 2003 &  80000 & Diesel & Manual & Third  & 12.8 & 1489 & 35.5 & 5 & 1.35 & 21\\\\\n\t  105 & Maruti Omni 5 Str STD                      & Coimbatore & 2010 &  93850 & Petrol & Manual & First  & 14.0 &  796 & 35.0 & 5 & 2.41 & 14\\\\\n\t  257 & Maruti Omni MPI CARGO BSIII W/ IMMOBILISER & Jaipur     & 2011 &  35000 & Petrol & Manual & Third  & 19.7 &  796 & 35.0 & 5 & 1.85 & 13\\\\\n\t  313 & Maruti Omni 8 Seater BSIV                  & Hyderabad  & 2012 &  71791 & Petrol & Manual & First  & 14.0 &  796 & 35.0 & 5 & 2.05 & 12\\\\\n\t  602 & Maruti Omni 8 Seater BSII                  & Pune       & 2010 &  60000 & Petrol & Manual & First  & 19.7 &  796 & 35.0 & 8 & 1.45 & 14\\\\\n\t 1127 & Maruti Omni 8 Seater BSIV                  & Coimbatore & 2016 &  55137 & Petrol & Manual & First  & 14.0 &  796 & 35.0 & 5 & 3.11 &  8\\\\\n\t 1546 & Maruti Omni 8 Seater BSIV                  & Hyderabad  & 2013 &  34834 & Petrol & Manual & First  & 14.0 &  796 & 35.0 & 5 & 2.60 & 11\\\\\n\t 1713 & Tata Nano Lx                               & Pune       & 2011 &  65000 & Petrol & Manual & Second & 26.0 &  624 & 35.0 & 4 & 0.44 & 13\\\\\n\t 1801 & Tata Nano Lx BSIV                          & Kochi      & 2012 &   4187 & Petrol & Manual & First  & 26.0 &  624 & 35.0 & 4 & 1.38 & 12\\\\\n\t 2252 & Maruti Omni 8 Seater BSIV                  & Hyderabad  & 2015 &  52950 & Petrol & Manual & First  & 14.0 &  796 & 35.0 & 5 & 2.35 &  9\\\\\n\t 2293 & Tata Nano Lx                               & Coimbatore & 2013 &  37287 & Petrol & Manual & First  & 26.0 &  624 & 35.0 & 4 & 1.74 & 11\\\\\n\t 2491 & Maruti Omni 8 Seater BSIV                  & Mumbai     & 2011 &  39000 & Petrol & Manual & First  & 14.0 &  796 & 35.0 & 5 & 1.50 & 13\\\\\n\t 2605 & Tata Nano Cx                               & Jaipur     & 2010 &  57000 & Petrol & Manual & First  & 26.0 &  624 & 35.0 & 4 & 0.50 & 14\\\\\n\t 3107 & Maruti Omni 8 Seater BSIV                  & Hyderabad  & 2017 &  21260 & Petrol & Manual & First  & 14.0 &  796 & 35.0 & 5 & 2.90 &  7\\\\\n\t 3155 & Maruti Omni 8 Seater BSII                  & Jaipur     & 2012 &  65000 & Petrol & Manual & First  & 19.7 &  796 & 35.0 & 8 & 1.55 & 12\\\\\n\t 3742 & Maruti Omni 8 Seater BSIV                  & Hyderabad  & 2017 &  24571 & Petrol & Manual & First  & 14.0 &  796 & 35.0 & 5 & 2.90 &  7\\\\\n\t 4806 & Maruti Omni 8 Seater BSII                  & Jaipur     & 2004 &  66624 & Petrol & Manual & Third  & 19.7 &  796 & 35.0 & 8 & 0.85 & 20\\\\\n\t 5690 & Maruti Omni 5 Seater BSIV                  & Coimbatore & 2019 &   4721 & Petrol & Manual & First  & 14.0 &  796 & 35.0 & 5 & 4.11 &  5\\\\\n\t  790 & Maruti Omni E 8 Str STD                    & Hyderabad  & 2013 &  26875 & Petrol & Manual & First  & 16.8 &  796 & 34.2 & 8 & 2.35 & 11\\\\\n\t 1008 & Maruti Omni E MPI STD BS IV                & Kochi      & 2019 &  11571 & Petrol & Manual & First  & 16.8 &  796 & 34.2 & 8 & 3.80 &  5\\\\\n\t 1912 & Maruti Omni E MPI STD BS IV                & Mumbai     & 2013 &  11734 & Petrol & Manual & First  & 16.8 &  796 & 34.2 & 8 & 2.25 & 11\\\\\n\t 2196 & Maruti Omni MPI STD BSIV                   & Coimbatore & 2017 &  15473 & Petrol & Manual & First  & 16.8 &  796 & 34.2 & 5 & 3.58 &  7\\\\\n\t 2849 & Maruti Omni MPI CARGO BSIV                 & Kolkata    & 2015 &  23000 & Petrol & Manual & First  & 16.8 &  796 & 34.2 & 5 & 1.50 &  9\\\\\n\t 3091 & Maruti Omni E MPI STD BS IV                & Jaipur     & 2015 &  15000 & Petrol & Manual & First  & 16.8 &  796 & 34.2 & 8 & 2.35 &  9\\\\\n\t 3321 & Maruti Omni MPI STD BSIV                   & Jaipur     & 2012 & 126000 & Petrol & Manual & First  & 16.8 &  796 & 34.2 & 5 & 1.60 & 12\\\\\n\\end{tabular}\n",
            "text/plain": [
              "     X    Name                                       Location   Year\n",
              "1    5781 Lamborghini Gallardo Coupe                 Delhi      2011\n",
              "2    5521 Bentley Continental Flying Spur            Hyderabad  2006\n",
              "3    2100 Porsche Cayenne Turbo S                    Mumbai     2010\n",
              "4    5088 Jaguar XJ 5.0 L V8 Supercharged            Coimbatore 2011\n",
              "5      70 Porsche Cayenne 2009-2014 Turbo            Mumbai     2008\n",
              "6    5919 Jaguar F Type 5.0 V8 S                     Hyderabad  2015\n",
              "7    4627 BMW 6 Series 650i Coupe                    Kochi      2010\n",
              "8    4821 BMW 6 Series 630i Coupe                    Mumbai     2011\n",
              "9     148 Audi RS5 Coupe                             Mumbai     2013\n",
              "10   4061 Audi RS5 Coupe                             Mumbai     2013\n",
              "11   4691 Mercedes-Benz SLK-Class 55 AMG             Bangalore  2014\n",
              "12   3341 BMW 7 Series 2007-2012 750Li               Kochi      2010\n",
              "13   4451 Ford Mustang V8                            Kochi      2018\n",
              "14   2978 Porsche Panamera 2010 2013 4S              Coimbatore 2010\n",
              "15   5603 Porsche Panamera 2010 2013 Diesel          Delhi      2013\n",
              "16   4722 Mercedes-Benz SL-Class SL 500              Kolkata    2010\n",
              "17   5341 Porsche Cayenne S Diesel                   Coimbatore 2016\n",
              "18    418 Mercedes-Benz GLC 43 AMG Coupe             Coimbatore 2018\n",
              "19    589 Mercedes-Benz S Class 2005 2013 S 350 L    Bangalore  2006\n",
              "20   1930 Mercedes-Benz S Class 2005 2013 S 350 L    Mumbai     2007\n",
              "21   4342 Mercedes-Benz S Class 2005 2013 S 350 L    Mumbai     2006\n",
              "22    152 Mercedes-Benz S Class 2005 2013 S 500      Kolkata    2010\n",
              "23    134 Mercedes-Benz SLC 43 AMG                   Kolkata    2017\n",
              "24   2095 Mercedes-Benz SLC 43 AMG                   Coimbatore 2019\n",
              "25   3132 Porsche Cayenne Base                       Kochi      2019\n",
              "26   3242 Land Rover Range Rover Vogue SE 4.4 SDV8   Bangalore  2012\n",
              "27   5416 Land Rover Range Rover Vogue SE 4.4 SDV8   Coimbatore 2013\n",
              "28    459 Audi Q7 4.2 TDI Quattro Technology         Coimbatore 2016\n",
              "29    586 Audi Q7 4.2 TDI Quattro Technology         Kochi      2014\n",
              "30   1093 Audi Q7 4.2 TDI Quattro Technology         Bangalore  2014\n",
              "⋮    ⋮    ⋮                                          ⋮          ⋮   \n",
              "5818 3756 Maruti 800 AC Uniq                         Jaipur     2009\n",
              "5819 3902 Maruti 800 AC                              Jaipur     2010\n",
              "5820 3942 Maruti 800 Std BSIII                       Jaipur     2002\n",
              "5821 5657 Maruti 800 Std                             Jaipur     2002\n",
              "5822 5926 Maruti 800 DX BSII                         Pune       2000\n",
              "5823 1221 Ambassador Classic Nova Diesel             Chennai    2003\n",
              "5824  105 Maruti Omni 5 Str STD                      Coimbatore 2010\n",
              "5825  257 Maruti Omni MPI CARGO BSIII W/ IMMOBILISER Jaipur     2011\n",
              "5826  313 Maruti Omni 8 Seater BSIV                  Hyderabad  2012\n",
              "5827  602 Maruti Omni 8 Seater BSII                  Pune       2010\n",
              "5828 1127 Maruti Omni 8 Seater BSIV                  Coimbatore 2016\n",
              "5829 1546 Maruti Omni 8 Seater BSIV                  Hyderabad  2013\n",
              "5830 1713 Tata Nano Lx                               Pune       2011\n",
              "5831 1801 Tata Nano Lx BSIV                          Kochi      2012\n",
              "5832 2252 Maruti Omni 8 Seater BSIV                  Hyderabad  2015\n",
              "5833 2293 Tata Nano Lx                               Coimbatore 2013\n",
              "5834 2491 Maruti Omni 8 Seater BSIV                  Mumbai     2011\n",
              "5835 2605 Tata Nano Cx                               Jaipur     2010\n",
              "5836 3107 Maruti Omni 8 Seater BSIV                  Hyderabad  2017\n",
              "5837 3155 Maruti Omni 8 Seater BSII                  Jaipur     2012\n",
              "5838 3742 Maruti Omni 8 Seater BSIV                  Hyderabad  2017\n",
              "5839 4806 Maruti Omni 8 Seater BSII                  Jaipur     2004\n",
              "5840 5690 Maruti Omni 5 Seater BSIV                  Coimbatore 2019\n",
              "5841  790 Maruti Omni E 8 Str STD                    Hyderabad  2013\n",
              "5842 1008 Maruti Omni E MPI STD BS IV                Kochi      2019\n",
              "5843 1912 Maruti Omni E MPI STD BS IV                Mumbai     2013\n",
              "5844 2196 Maruti Omni MPI STD BSIV                   Coimbatore 2017\n",
              "5845 2849 Maruti Omni MPI CARGO BSIV                 Kolkata    2015\n",
              "5846 3091 Maruti Omni E MPI STD BS IV                Jaipur     2015\n",
              "5847 3321 Maruti Omni MPI STD BSIV                   Jaipur     2012\n",
              "     Kilometers_Driven Fuel_Type Transmission Owner_Type Mileage Engine Power \n",
              "1      6500            Petrol    Automatic    Third       6.40   5204   560.00\n",
              "2     48000            Petrol    Automatic    First       8.60   5998   552.00\n",
              "3     35000            Petrol    Automatic    Second     11.90   4806   550.00\n",
              "4     43686            Petrol    Automatic    First      10.50   5000   503.00\n",
              "5     73000            Petrol    Automatic    First       8.50   4806   500.00\n",
              "6      8000            Petrol    Automatic    First      12.50   5000   488.10\n",
              "7     65329            Petrol    Automatic    First       7.94   4395   450.00\n",
              "8      5900            Petrol    Automatic    First       7.94   4395   450.00\n",
              "9     23000            Petrol    Automatic    First      11.05   2894   444.00\n",
              "10    23312            Petrol    Automatic    First      11.05   2894   444.00\n",
              "11     3000            Petrol    Automatic    Second     12.00   5461   421.00\n",
              "12    50161            Petrol    Automatic    First       8.77   4395   402.00\n",
              "13    21290            Petrol    Automatic    First      13.00   4951   395.00\n",
              "14    42400            Petrol    Automatic    Third       8.00   4806   394.30\n",
              "15    36400            Diesel    Automatic    First       7.50   4806   394.30\n",
              "16    35000            Petrol    Automatic    First       8.10   5461   387.30\n",
              "17    65003            Diesel    Automatic    First      13.60   4134   382.00\n",
              "18    22397            Petrol    Automatic    First      11.50   2996   367.00\n",
              "19    47088            Petrol    Automatic    Second     10.13   3498   364.90\n",
              "20    55000            Petrol    Automatic    Third      10.13   3498   364.90\n",
              "21   103000            Petrol    Automatic    First      10.13   3498   364.90\n",
              "22    35277            Petrol    Automatic    First       7.81   5461   362.90\n",
              "23    13372            Petrol    Automatic    First      19.00   2996   362.07\n",
              "24     2526            Petrol    Automatic    First      19.00   2996   362.07\n",
              "25    14298            Petrol    Automatic    First      13.33   2995   340.00\n",
              "26    63000            Diesel    Automatic    Second     11.49   4367   335.30\n",
              "27    75995            Diesel    Automatic    Second     11.49   4367   335.30\n",
              "28    51002            Diesel    Automatic    First      11.33   4134   335.20\n",
              "29    79926            Diesel    Automatic    First      11.33   4134   335.20\n",
              "30    50000            Diesel    Automatic    First      11.33   4134   335.20\n",
              "⋮    ⋮                 ⋮         ⋮            ⋮          ⋮       ⋮      ⋮     \n",
              "5818  22100            Petrol    Manual       Second     16.1     796   37.0  \n",
              "5819  70000            Petrol    Manual       Second     16.1     796   37.0  \n",
              "5820  53500            Petrol    Manual       Second     16.1     796   37.0  \n",
              "5821  75000            Petrol    Manual       First      16.1     796   37.0  \n",
              "5822  78000            Petrol    Manual       First      16.1     796   37.0  \n",
              "5823  80000            Diesel    Manual       Third      12.8    1489   35.5  \n",
              "5824  93850            Petrol    Manual       First      14.0     796   35.0  \n",
              "5825  35000            Petrol    Manual       Third      19.7     796   35.0  \n",
              "5826  71791            Petrol    Manual       First      14.0     796   35.0  \n",
              "5827  60000            Petrol    Manual       First      19.7     796   35.0  \n",
              "5828  55137            Petrol    Manual       First      14.0     796   35.0  \n",
              "5829  34834            Petrol    Manual       First      14.0     796   35.0  \n",
              "5830  65000            Petrol    Manual       Second     26.0     624   35.0  \n",
              "5831   4187            Petrol    Manual       First      26.0     624   35.0  \n",
              "5832  52950            Petrol    Manual       First      14.0     796   35.0  \n",
              "5833  37287            Petrol    Manual       First      26.0     624   35.0  \n",
              "5834  39000            Petrol    Manual       First      14.0     796   35.0  \n",
              "5835  57000            Petrol    Manual       First      26.0     624   35.0  \n",
              "5836  21260            Petrol    Manual       First      14.0     796   35.0  \n",
              "5837  65000            Petrol    Manual       First      19.7     796   35.0  \n",
              "5838  24571            Petrol    Manual       First      14.0     796   35.0  \n",
              "5839  66624            Petrol    Manual       Third      19.7     796   35.0  \n",
              "5840   4721            Petrol    Manual       First      14.0     796   35.0  \n",
              "5841  26875            Petrol    Manual       First      16.8     796   34.2  \n",
              "5842  11571            Petrol    Manual       First      16.8     796   34.2  \n",
              "5843  11734            Petrol    Manual       First      16.8     796   34.2  \n",
              "5844  15473            Petrol    Manual       First      16.8     796   34.2  \n",
              "5845  23000            Petrol    Manual       First      16.8     796   34.2  \n",
              "5846  15000            Petrol    Manual       First      16.8     796   34.2  \n",
              "5847 126000            Petrol    Manual       First      16.8     796   34.2  \n",
              "     Seats Price  car_age\n",
              "1    2     120.00 13     \n",
              "2    4      59.00 18     \n",
              "3    5      32.00 14     \n",
              "4    4      50.66 13     \n",
              "5    5      14.50 16     \n",
              "6    2     100.00  9     \n",
              "7    4      20.72 14     \n",
              "8    4      47.50 13     \n",
              "9    4      37.00 11     \n",
              "10   4      40.50 11     \n",
              "11   2      90.00 10     \n",
              "12   5      25.93 14     \n",
              "13   4      56.80  6     \n",
              "14   4      42.91 14     \n",
              "15   4      72.00 11     \n",
              "16   2      29.50 14     \n",
              "17   5      67.83  8     \n",
              "18   5      70.99  6     \n",
              "19   5      19.00 18     \n",
              "20   5       9.99 17     \n",
              "21   5       8.85 18     \n",
              "22   5      30.00 14     \n",
              "23   2      54.00  7     \n",
              "24   2      83.96  5     \n",
              "25   5       2.02  5     \n",
              "26   5      65.00 12     \n",
              "27   5      65.81 11     \n",
              "28   7      48.91  8     \n",
              "29   7      29.77 10     \n",
              "30   7      51.00 10     \n",
              "⋮    ⋮     ⋮      ⋮      \n",
              "5818 4     0.80   15     \n",
              "5819 4     0.90   14     \n",
              "5820 4     0.63   22     \n",
              "5821 4     0.51   22     \n",
              "5822 4     0.55   24     \n",
              "5823 5     1.35   21     \n",
              "5824 5     2.41   14     \n",
              "5825 5     1.85   13     \n",
              "5826 5     2.05   12     \n",
              "5827 8     1.45   14     \n",
              "5828 5     3.11    8     \n",
              "5829 5     2.60   11     \n",
              "5830 4     0.44   13     \n",
              "5831 4     1.38   12     \n",
              "5832 5     2.35    9     \n",
              "5833 4     1.74   11     \n",
              "5834 5     1.50   13     \n",
              "5835 4     0.50   14     \n",
              "5836 5     2.90    7     \n",
              "5837 8     1.55   12     \n",
              "5838 5     2.90    7     \n",
              "5839 8     0.85   20     \n",
              "5840 5     4.11    5     \n",
              "5841 8     2.35   11     \n",
              "5842 8     3.80    5     \n",
              "5843 8     2.25   11     \n",
              "5844 5     3.58    7     \n",
              "5845 5     1.50    9     \n",
              "5846 8     2.35    9     \n",
              "5847 5     1.60   12     "
            ]
          },
          "metadata": {}
        }
      ]
    },
    {
      "cell_type": "code",
      "source": [
        "#summarise\n",
        "data_summary <- clean_car_data %>%\n",
        "  group_by(Transmission) %>%\n",
        "  summarise(\n",
        "  N = n(),\n",
        "  highest_Power = max(Power),\n",
        "  lowerst_Power = min(Power),\n",
        "  total_Diesel = sum(Fuel_Type == \"Diesel\"),\n",
        "  Avg_Mileage = mean(Mileage),\n",
        "  )\n",
        "  data_summary\n",
        "  write.csv(data_summary, \"results/data_summary.csv\")"
      ],
      "metadata": {
        "colab": {
          "base_uri": "https://localhost:8080/",
          "height": 159
        },
        "id": "gTREGLAlqpOz",
        "outputId": "a432e417-fae9-4754-80be-b58e74cebd47"
      },
      "execution_count": 18,
      "outputs": [
        {
          "output_type": "display_data",
          "data": {
            "text/html": [
              "<table class=\"dataframe\">\n",
              "<caption>A tibble: 2 × 6</caption>\n",
              "<thead>\n",
              "\t<tr><th scope=col>Transmission</th><th scope=col>N</th><th scope=col>highest_Power</th><th scope=col>lowerst_Power</th><th scope=col>total_Diesel</th><th scope=col>Avg_Mileage</th></tr>\n",
              "\t<tr><th scope=col>&lt;chr&gt;</th><th scope=col>&lt;int&gt;</th><th scope=col>&lt;dbl&gt;</th><th scope=col>&lt;dbl&gt;</th><th scope=col>&lt;int&gt;</th><th scope=col>&lt;dbl&gt;</th></tr>\n",
              "</thead>\n",
              "<tbody>\n",
              "\t<tr><td>Automatic</td><td>1712</td><td>560</td><td>37.48</td><td>1106</td><td>15.75194</td></tr>\n",
              "\t<tr><td>Manual   </td><td>4135</td><td>210</td><td>34.20</td><td>2055</td><td>19.15865</td></tr>\n",
              "</tbody>\n",
              "</table>\n"
            ],
            "text/markdown": "\nA tibble: 2 × 6\n\n| Transmission &lt;chr&gt; | N &lt;int&gt; | highest_Power &lt;dbl&gt; | lowerst_Power &lt;dbl&gt; | total_Diesel &lt;int&gt; | Avg_Mileage &lt;dbl&gt; |\n|---|---|---|---|---|---|\n| Automatic | 1712 | 560 | 37.48 | 1106 | 15.75194 |\n| Manual    | 4135 | 210 | 34.20 | 2055 | 19.15865 |\n\n",
            "text/latex": "A tibble: 2 × 6\n\\begin{tabular}{llllll}\n Transmission & N & highest\\_Power & lowerst\\_Power & total\\_Diesel & Avg\\_Mileage\\\\\n <chr> & <int> & <dbl> & <dbl> & <int> & <dbl>\\\\\n\\hline\n\t Automatic & 1712 & 560 & 37.48 & 1106 & 15.75194\\\\\n\t Manual    & 4135 & 210 & 34.20 & 2055 & 19.15865\\\\\n\\end{tabular}\n",
            "text/plain": [
              "  Transmission N    highest_Power lowerst_Power total_Diesel Avg_Mileage\n",
              "1 Automatic    1712 560           37.48         1106         15.75194   \n",
              "2 Manual       4135 210           34.20         2055         19.15865   "
            ]
          },
          "metadata": {}
        }
      ]
    }
  ]
}