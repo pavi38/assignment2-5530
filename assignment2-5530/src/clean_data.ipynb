{
  "cells": [
    {
      "cell_type": "code",
      "source": [
        "install.packages(\"skimr\")"
      ],
      "metadata": {
        "colab": {
          "base_uri": "https://localhost:8080/"
        },
        "id": "XUvgil9CiDJo",
        "outputId": "7bddda76-9b61-4adb-ac84-d51985831422"
      },
      "execution_count": 1,
      "outputs": [
        {
          "output_type": "stream",
          "name": "stderr",
          "text": [
            "Installing package into ‘/usr/local/lib/R/site-library’\n",
            "(as ‘lib’ is unspecified)\n",
            "\n"
          ]
        }
      ]
    },
    {
      "cell_type": "code",
      "execution_count": 2,
      "metadata": {
        "id": "GsP0Lw_sII1W",
        "colab": {
          "base_uri": "https://localhost:8080/"
        },
        "outputId": "bc708064-6170-4d42-c281-6fd3f2b39e4a"
      },
      "outputs": [
        {
          "output_type": "stream",
          "name": "stderr",
          "text": [
            "\n",
            "Attaching package: ‘dplyr’\n",
            "\n",
            "\n",
            "The following objects are masked from ‘package:stats’:\n",
            "\n",
            "    filter, lag\n",
            "\n",
            "\n",
            "The following objects are masked from ‘package:base’:\n",
            "\n",
            "    intersect, setdiff, setequal, union\n",
            "\n",
            "\n"
          ]
        }
      ],
      "source": [
        "library(dplyr)\n",
        "library(skimr)"
      ]
    },
    {
      "cell_type": "code",
      "execution_count": 3,
      "metadata": {
        "id": "Ohj5hYr95O_f",
        "colab": {
          "base_uri": "https://localhost:8080/",
          "height": 524
        },
        "outputId": "28242674-cdff-4ede-e3c7-0644f8a4eca8"
      },
      "outputs": [
        {
          "output_type": "display_data",
          "data": {
            "text/html": [
              "<table class=\"dataframe\">\n",
              "<caption>A data.frame: 6 × 14</caption>\n",
              "<thead>\n",
              "\t<tr><th></th><th scope=col>X</th><th scope=col>Name</th><th scope=col>Location</th><th scope=col>Year</th><th scope=col>Kilometers_Driven</th><th scope=col>Fuel_Type</th><th scope=col>Transmission</th><th scope=col>Owner_Type</th><th scope=col>Mileage</th><th scope=col>Engine</th><th scope=col>Power</th><th scope=col>Seats</th><th scope=col>New_Price</th><th scope=col>Price</th></tr>\n",
              "\t<tr><th></th><th scope=col>&lt;int&gt;</th><th scope=col>&lt;chr&gt;</th><th scope=col>&lt;chr&gt;</th><th scope=col>&lt;int&gt;</th><th scope=col>&lt;int&gt;</th><th scope=col>&lt;chr&gt;</th><th scope=col>&lt;chr&gt;</th><th scope=col>&lt;chr&gt;</th><th scope=col>&lt;chr&gt;</th><th scope=col>&lt;chr&gt;</th><th scope=col>&lt;chr&gt;</th><th scope=col>&lt;dbl&gt;</th><th scope=col>&lt;chr&gt;</th><th scope=col>&lt;dbl&gt;</th></tr>\n",
              "</thead>\n",
              "<tbody>\n",
              "\t<tr><th scope=row>1</th><td>1</td><td>Hyundai Creta 1.6 CRDi SX Option </td><td>Pune      </td><td>2015</td><td>41000</td><td>Diesel</td><td>Manual   </td><td>First </td><td>19.67 kmpl</td><td>1582 CC</td><td>126.2 bhp</td><td>5</td><td>         </td><td>12.50</td></tr>\n",
              "\t<tr><th scope=row>2</th><td>2</td><td>Honda Jazz V                     </td><td>Chennai   </td><td>2011</td><td>46000</td><td>Petrol</td><td>Manual   </td><td>First </td><td>13 km/kg  </td><td>1199 CC</td><td>88.7 bhp </td><td>5</td><td>8.61 Lakh</td><td> 4.50</td></tr>\n",
              "\t<tr><th scope=row>3</th><td>3</td><td>Maruti Ertiga VDI                </td><td>Chennai   </td><td>2012</td><td>87000</td><td>Diesel</td><td>Manual   </td><td>First </td><td>20.77 kmpl</td><td>1248 CC</td><td>88.76 bhp</td><td>7</td><td>         </td><td> 6.00</td></tr>\n",
              "\t<tr><th scope=row>4</th><td>4</td><td>Audi A4 New 2.0 TDI Multitronic  </td><td>Coimbatore</td><td>2013</td><td>40670</td><td>Diesel</td><td>Automatic</td><td>Second</td><td>15.2 kmpl </td><td>1968 CC</td><td>140.8 bhp</td><td>5</td><td>         </td><td>17.74</td></tr>\n",
              "\t<tr><th scope=row>5</th><td>6</td><td>Nissan Micra Diesel XV           </td><td>Jaipur    </td><td>2013</td><td>86999</td><td>Diesel</td><td>Manual   </td><td>First </td><td>23.08 kmpl</td><td>1461 CC</td><td>63.1 bhp </td><td>5</td><td>         </td><td> 3.50</td></tr>\n",
              "\t<tr><th scope=row>6</th><td>7</td><td>Toyota Innova Crysta 2.8 GX AT 8S</td><td>Mumbai    </td><td>2016</td><td>36000</td><td>Diesel</td><td>Automatic</td><td>First </td><td>11.36 kmpl</td><td>2755 CC</td><td>171.5 bhp</td><td>8</td><td>21 Lakh  </td><td>17.50</td></tr>\n",
              "</tbody>\n",
              "</table>\n"
            ],
            "text/markdown": "\nA data.frame: 6 × 14\n\n| <!--/--> | X &lt;int&gt; | Name &lt;chr&gt; | Location &lt;chr&gt; | Year &lt;int&gt; | Kilometers_Driven &lt;int&gt; | Fuel_Type &lt;chr&gt; | Transmission &lt;chr&gt; | Owner_Type &lt;chr&gt; | Mileage &lt;chr&gt; | Engine &lt;chr&gt; | Power &lt;chr&gt; | Seats &lt;dbl&gt; | New_Price &lt;chr&gt; | Price &lt;dbl&gt; |\n|---|---|---|---|---|---|---|---|---|---|---|---|---|---|---|\n| 1 | 1 | Hyundai Creta 1.6 CRDi SX Option  | Pune       | 2015 | 41000 | Diesel | Manual    | First  | 19.67 kmpl | 1582 CC | 126.2 bhp | 5 | <!----> | 12.50 |\n| 2 | 2 | Honda Jazz V                      | Chennai    | 2011 | 46000 | Petrol | Manual    | First  | 13 km/kg   | 1199 CC | 88.7 bhp  | 5 | 8.61 Lakh |  4.50 |\n| 3 | 3 | Maruti Ertiga VDI                 | Chennai    | 2012 | 87000 | Diesel | Manual    | First  | 20.77 kmpl | 1248 CC | 88.76 bhp | 7 | <!----> |  6.00 |\n| 4 | 4 | Audi A4 New 2.0 TDI Multitronic   | Coimbatore | 2013 | 40670 | Diesel | Automatic | Second | 15.2 kmpl  | 1968 CC | 140.8 bhp | 5 | <!----> | 17.74 |\n| 5 | 6 | Nissan Micra Diesel XV            | Jaipur     | 2013 | 86999 | Diesel | Manual    | First  | 23.08 kmpl | 1461 CC | 63.1 bhp  | 5 | <!----> |  3.50 |\n| 6 | 7 | Toyota Innova Crysta 2.8 GX AT 8S | Mumbai     | 2016 | 36000 | Diesel | Automatic | First  | 11.36 kmpl | 2755 CC | 171.5 bhp | 8 | 21 Lakh   | 17.50 |\n\n",
            "text/latex": "A data.frame: 6 × 14\n\\begin{tabular}{r|llllllllllllll}\n  & X & Name & Location & Year & Kilometers\\_Driven & Fuel\\_Type & Transmission & Owner\\_Type & Mileage & Engine & Power & Seats & New\\_Price & Price\\\\\n  & <int> & <chr> & <chr> & <int> & <int> & <chr> & <chr> & <chr> & <chr> & <chr> & <chr> & <dbl> & <chr> & <dbl>\\\\\n\\hline\n\t1 & 1 & Hyundai Creta 1.6 CRDi SX Option  & Pune       & 2015 & 41000 & Diesel & Manual    & First  & 19.67 kmpl & 1582 CC & 126.2 bhp & 5 &           & 12.50\\\\\n\t2 & 2 & Honda Jazz V                      & Chennai    & 2011 & 46000 & Petrol & Manual    & First  & 13 km/kg   & 1199 CC & 88.7 bhp  & 5 & 8.61 Lakh &  4.50\\\\\n\t3 & 3 & Maruti Ertiga VDI                 & Chennai    & 2012 & 87000 & Diesel & Manual    & First  & 20.77 kmpl & 1248 CC & 88.76 bhp & 7 &           &  6.00\\\\\n\t4 & 4 & Audi A4 New 2.0 TDI Multitronic   & Coimbatore & 2013 & 40670 & Diesel & Automatic & Second & 15.2 kmpl  & 1968 CC & 140.8 bhp & 5 &           & 17.74\\\\\n\t5 & 6 & Nissan Micra Diesel XV            & Jaipur     & 2013 & 86999 & Diesel & Manual    & First  & 23.08 kmpl & 1461 CC & 63.1 bhp  & 5 &           &  3.50\\\\\n\t6 & 7 & Toyota Innova Crysta 2.8 GX AT 8S & Mumbai     & 2016 & 36000 & Diesel & Automatic & First  & 11.36 kmpl & 2755 CC & 171.5 bhp & 8 & 21 Lakh   & 17.50\\\\\n\\end{tabular}\n",
            "text/plain": [
              "  X Name                              Location   Year Kilometers_Driven\n",
              "1 1 Hyundai Creta 1.6 CRDi SX Option  Pune       2015 41000            \n",
              "2 2 Honda Jazz V                      Chennai    2011 46000            \n",
              "3 3 Maruti Ertiga VDI                 Chennai    2012 87000            \n",
              "4 4 Audi A4 New 2.0 TDI Multitronic   Coimbatore 2013 40670            \n",
              "5 6 Nissan Micra Diesel XV            Jaipur     2013 86999            \n",
              "6 7 Toyota Innova Crysta 2.8 GX AT 8S Mumbai     2016 36000            \n",
              "  Fuel_Type Transmission Owner_Type Mileage    Engine  Power     Seats\n",
              "1 Diesel    Manual       First      19.67 kmpl 1582 CC 126.2 bhp 5    \n",
              "2 Petrol    Manual       First      13 km/kg   1199 CC 88.7 bhp  5    \n",
              "3 Diesel    Manual       First      20.77 kmpl 1248 CC 88.76 bhp 7    \n",
              "4 Diesel    Automatic    Second     15.2 kmpl  1968 CC 140.8 bhp 5    \n",
              "5 Diesel    Manual       First      23.08 kmpl 1461 CC 63.1 bhp  5    \n",
              "6 Diesel    Automatic    First      11.36 kmpl 2755 CC 171.5 bhp 8    \n",
              "  New_Price Price\n",
              "1           12.50\n",
              "2 8.61 Lakh  4.50\n",
              "3            6.00\n",
              "4           17.74\n",
              "5            3.50\n",
              "6 21 Lakh   17.50"
            ]
          },
          "metadata": {}
        }
      ],
      "source": [
        "#reading in the raw data\n",
        "car_data <- read.csv(\"raw_data/train.csv\")\n",
        "head(car_data)"
      ]
    },
    {
      "cell_type": "code",
      "execution_count": 4,
      "metadata": {
        "id": "JFlJdp6s7sK4",
        "colab": {
          "base_uri": "https://localhost:8080/",
          "height": 34
        },
        "outputId": "9022756e-4616-4a7a-daf1-16a565c0ce40"
      },
      "outputs": [
        {
          "output_type": "display_data",
          "data": {
            "text/html": [
              "5847"
            ],
            "text/markdown": "5847",
            "text/latex": "5847",
            "text/plain": [
              "[1] 5847"
            ]
          },
          "metadata": {}
        }
      ],
      "source": [
        "#size of the data\n",
        "nrow(car_data)"
      ]
    },
    {
      "cell_type": "code",
      "execution_count": 5,
      "metadata": {
        "id": "rqItsvLtQrew"
      },
      "outputs": [],
      "source": [
        "#getting rid of the units from the mileage column\n",
        "car_data$Mileage <- sapply(car_data$Mileage, function(value) {\n",
        "  if (grepl(\"kmpl\", value)) {\n",
        "    as.numeric(gsub(\"kmpl\", \"\", value)) #removing the kmpl\n",
        "  } else if (grepl(\"km/kg\", value)) {\n",
        "    as.numeric(gsub(\"km/kg\", \"\", value)) * 1.40 #converitng km/kg to kmpl\n",
        "  }else{\n",
        "    NA\n",
        "  }\n",
        "})\n"
      ]
    },
    {
      "cell_type": "code",
      "execution_count": 6,
      "metadata": {
        "id": "0sRUo9rcmNm7",
        "colab": {
          "base_uri": "https://localhost:8080/",
          "height": 558
        },
        "outputId": "f76379db-d7a4-4920-ce8e-aa6381d8d2c5"
      },
      "outputs": [
        {
          "output_type": "stream",
          "name": "stderr",
          "text": [
            "Warning message:\n",
            "“NAs introduced by coercion”\n"
          ]
        },
        {
          "output_type": "display_data",
          "data": {
            "text/html": [
              "<table class=\"dataframe\">\n",
              "<caption>A data.frame: 6 × 14</caption>\n",
              "<thead>\n",
              "\t<tr><th></th><th scope=col>X</th><th scope=col>Name</th><th scope=col>Location</th><th scope=col>Year</th><th scope=col>Kilometers_Driven</th><th scope=col>Fuel_Type</th><th scope=col>Transmission</th><th scope=col>Owner_Type</th><th scope=col>Mileage</th><th scope=col>Engine</th><th scope=col>Power</th><th scope=col>Seats</th><th scope=col>New_Price</th><th scope=col>Price</th></tr>\n",
              "\t<tr><th></th><th scope=col>&lt;int&gt;</th><th scope=col>&lt;chr&gt;</th><th scope=col>&lt;chr&gt;</th><th scope=col>&lt;int&gt;</th><th scope=col>&lt;int&gt;</th><th scope=col>&lt;chr&gt;</th><th scope=col>&lt;chr&gt;</th><th scope=col>&lt;chr&gt;</th><th scope=col>&lt;dbl&gt;</th><th scope=col>&lt;dbl&gt;</th><th scope=col>&lt;dbl&gt;</th><th scope=col>&lt;dbl&gt;</th><th scope=col>&lt;dbl&gt;</th><th scope=col>&lt;dbl&gt;</th></tr>\n",
              "</thead>\n",
              "<tbody>\n",
              "\t<tr><th scope=row>1</th><td>1</td><td>Hyundai Creta 1.6 CRDi SX Option </td><td>Pune      </td><td>2015</td><td>41000</td><td>Diesel</td><td>Manual   </td><td>First </td><td>19.67</td><td>1582</td><td>126.20</td><td>5</td><td>   NA</td><td>12.50</td></tr>\n",
              "\t<tr><th scope=row>2</th><td>2</td><td>Honda Jazz V                     </td><td>Chennai   </td><td>2011</td><td>46000</td><td>Petrol</td><td>Manual   </td><td>First </td><td>18.20</td><td>1199</td><td> 88.70</td><td>5</td><td> 8.61</td><td> 4.50</td></tr>\n",
              "\t<tr><th scope=row>3</th><td>3</td><td>Maruti Ertiga VDI                </td><td>Chennai   </td><td>2012</td><td>87000</td><td>Diesel</td><td>Manual   </td><td>First </td><td>20.77</td><td>1248</td><td> 88.76</td><td>7</td><td>   NA</td><td> 6.00</td></tr>\n",
              "\t<tr><th scope=row>4</th><td>4</td><td>Audi A4 New 2.0 TDI Multitronic  </td><td>Coimbatore</td><td>2013</td><td>40670</td><td>Diesel</td><td>Automatic</td><td>Second</td><td>15.20</td><td>1968</td><td>140.80</td><td>5</td><td>   NA</td><td>17.74</td></tr>\n",
              "\t<tr><th scope=row>5</th><td>6</td><td>Nissan Micra Diesel XV           </td><td>Jaipur    </td><td>2013</td><td>86999</td><td>Diesel</td><td>Manual   </td><td>First </td><td>23.08</td><td>1461</td><td> 63.10</td><td>5</td><td>   NA</td><td> 3.50</td></tr>\n",
              "\t<tr><th scope=row>6</th><td>7</td><td>Toyota Innova Crysta 2.8 GX AT 8S</td><td>Mumbai    </td><td>2016</td><td>36000</td><td>Diesel</td><td>Automatic</td><td>First </td><td>11.36</td><td>2755</td><td>171.50</td><td>8</td><td>21.00</td><td>17.50</td></tr>\n",
              "</tbody>\n",
              "</table>\n"
            ],
            "text/markdown": "\nA data.frame: 6 × 14\n\n| <!--/--> | X &lt;int&gt; | Name &lt;chr&gt; | Location &lt;chr&gt; | Year &lt;int&gt; | Kilometers_Driven &lt;int&gt; | Fuel_Type &lt;chr&gt; | Transmission &lt;chr&gt; | Owner_Type &lt;chr&gt; | Mileage &lt;dbl&gt; | Engine &lt;dbl&gt; | Power &lt;dbl&gt; | Seats &lt;dbl&gt; | New_Price &lt;dbl&gt; | Price &lt;dbl&gt; |\n|---|---|---|---|---|---|---|---|---|---|---|---|---|---|---|\n| 1 | 1 | Hyundai Creta 1.6 CRDi SX Option  | Pune       | 2015 | 41000 | Diesel | Manual    | First  | 19.67 | 1582 | 126.20 | 5 |    NA | 12.50 |\n| 2 | 2 | Honda Jazz V                      | Chennai    | 2011 | 46000 | Petrol | Manual    | First  | 18.20 | 1199 |  88.70 | 5 |  8.61 |  4.50 |\n| 3 | 3 | Maruti Ertiga VDI                 | Chennai    | 2012 | 87000 | Diesel | Manual    | First  | 20.77 | 1248 |  88.76 | 7 |    NA |  6.00 |\n| 4 | 4 | Audi A4 New 2.0 TDI Multitronic   | Coimbatore | 2013 | 40670 | Diesel | Automatic | Second | 15.20 | 1968 | 140.80 | 5 |    NA | 17.74 |\n| 5 | 6 | Nissan Micra Diesel XV            | Jaipur     | 2013 | 86999 | Diesel | Manual    | First  | 23.08 | 1461 |  63.10 | 5 |    NA |  3.50 |\n| 6 | 7 | Toyota Innova Crysta 2.8 GX AT 8S | Mumbai     | 2016 | 36000 | Diesel | Automatic | First  | 11.36 | 2755 | 171.50 | 8 | 21.00 | 17.50 |\n\n",
            "text/latex": "A data.frame: 6 × 14\n\\begin{tabular}{r|llllllllllllll}\n  & X & Name & Location & Year & Kilometers\\_Driven & Fuel\\_Type & Transmission & Owner\\_Type & Mileage & Engine & Power & Seats & New\\_Price & Price\\\\\n  & <int> & <chr> & <chr> & <int> & <int> & <chr> & <chr> & <chr> & <dbl> & <dbl> & <dbl> & <dbl> & <dbl> & <dbl>\\\\\n\\hline\n\t1 & 1 & Hyundai Creta 1.6 CRDi SX Option  & Pune       & 2015 & 41000 & Diesel & Manual    & First  & 19.67 & 1582 & 126.20 & 5 &    NA & 12.50\\\\\n\t2 & 2 & Honda Jazz V                      & Chennai    & 2011 & 46000 & Petrol & Manual    & First  & 18.20 & 1199 &  88.70 & 5 &  8.61 &  4.50\\\\\n\t3 & 3 & Maruti Ertiga VDI                 & Chennai    & 2012 & 87000 & Diesel & Manual    & First  & 20.77 & 1248 &  88.76 & 7 &    NA &  6.00\\\\\n\t4 & 4 & Audi A4 New 2.0 TDI Multitronic   & Coimbatore & 2013 & 40670 & Diesel & Automatic & Second & 15.20 & 1968 & 140.80 & 5 &    NA & 17.74\\\\\n\t5 & 6 & Nissan Micra Diesel XV            & Jaipur     & 2013 & 86999 & Diesel & Manual    & First  & 23.08 & 1461 &  63.10 & 5 &    NA &  3.50\\\\\n\t6 & 7 & Toyota Innova Crysta 2.8 GX AT 8S & Mumbai     & 2016 & 36000 & Diesel & Automatic & First  & 11.36 & 2755 & 171.50 & 8 & 21.00 & 17.50\\\\\n\\end{tabular}\n",
            "text/plain": [
              "  X Name                              Location   Year Kilometers_Driven\n",
              "1 1 Hyundai Creta 1.6 CRDi SX Option  Pune       2015 41000            \n",
              "2 2 Honda Jazz V                      Chennai    2011 46000            \n",
              "3 3 Maruti Ertiga VDI                 Chennai    2012 87000            \n",
              "4 4 Audi A4 New 2.0 TDI Multitronic   Coimbatore 2013 40670            \n",
              "5 6 Nissan Micra Diesel XV            Jaipur     2013 86999            \n",
              "6 7 Toyota Innova Crysta 2.8 GX AT 8S Mumbai     2016 36000            \n",
              "  Fuel_Type Transmission Owner_Type Mileage Engine Power  Seats New_Price Price\n",
              "1 Diesel    Manual       First      19.67   1582   126.20 5        NA     12.50\n",
              "2 Petrol    Manual       First      18.20   1199    88.70 5      8.61      4.50\n",
              "3 Diesel    Manual       First      20.77   1248    88.76 7        NA      6.00\n",
              "4 Diesel    Automatic    Second     15.20   1968   140.80 5        NA     17.74\n",
              "5 Diesel    Manual       First      23.08   1461    63.10 5        NA      3.50\n",
              "6 Diesel    Automatic    First      11.36   2755   171.50 8     21.00     17.50"
            ]
          },
          "metadata": {}
        }
      ],
      "source": [
        "#getting rid of the units in other column\n",
        "car_data$Engine <- as.numeric(gsub(\"CC\", \"\", car_data$Engine))\n",
        "car_data$Power <- as.numeric(gsub(\"bhp\", \"\", car_data$Power))\n",
        "car_data$New_Price <- as.numeric(gsub(\"Lakh\", \"\", car_data$New_Price))\n",
        "head(car_data)"
      ]
    },
    {
      "cell_type": "code",
      "source": [
        "#checking for the missing data\n",
        "colSums(is.na(car_data) | car_data == \"\")"
      ],
      "metadata": {
        "id": "TAKsy-wPbELf",
        "colab": {
          "base_uri": "https://localhost:8080/",
          "height": 51
        },
        "outputId": "dadf6584-8e4b-4327-9069-a96da8e25cf9"
      },
      "execution_count": 7,
      "outputs": [
        {
          "output_type": "display_data",
          "data": {
            "text/html": [
              "<style>\n",
              ".dl-inline {width: auto; margin:0; padding: 0}\n",
              ".dl-inline>dt, .dl-inline>dd {float: none; width: auto; display: inline-block}\n",
              ".dl-inline>dt::after {content: \":\\0020\"; padding-right: .5ex}\n",
              ".dl-inline>dt:not(:first-of-type) {padding-left: .5ex}\n",
              "</style><dl class=dl-inline><dt>X</dt><dd>0</dd><dt>Name</dt><dd>0</dd><dt>Location</dt><dd>0</dd><dt>Year</dt><dd>0</dd><dt>Kilometers_Driven</dt><dd>0</dd><dt>Fuel_Type</dt><dd>0</dd><dt>Transmission</dt><dd>0</dd><dt>Owner_Type</dt><dd>0</dd><dt>Mileage</dt><dd>2</dd><dt>Engine</dt><dd>36</dd><dt>Power</dt><dd>36</dd><dt>Seats</dt><dd>38</dd><dt>New_Price</dt><dd>5049</dd><dt>Price</dt><dd>0</dd></dl>\n"
            ],
            "text/markdown": "X\n:   0Name\n:   0Location\n:   0Year\n:   0Kilometers_Driven\n:   0Fuel_Type\n:   0Transmission\n:   0Owner_Type\n:   0Mileage\n:   2Engine\n:   36Power\n:   36Seats\n:   38New_Price\n:   5049Price\n:   0\n\n",
            "text/latex": "\\begin{description*}\n\\item[X] 0\n\\item[Name] 0\n\\item[Location] 0\n\\item[Year] 0\n\\item[Kilometers\\textbackslash{}\\_Driven] 0\n\\item[Fuel\\textbackslash{}\\_Type] 0\n\\item[Transmission] 0\n\\item[Owner\\textbackslash{}\\_Type] 0\n\\item[Mileage] 2\n\\item[Engine] 36\n\\item[Power] 36\n\\item[Seats] 38\n\\item[New\\textbackslash{}\\_Price] 5049\n\\item[Price] 0\n\\end{description*}\n",
            "text/plain": [
              "                X              Name          Location              Year \n",
              "                0                 0                 0                 0 \n",
              "Kilometers_Driven         Fuel_Type      Transmission        Owner_Type \n",
              "                0                 0                 0                 0 \n",
              "          Mileage            Engine             Power             Seats \n",
              "                2                36                36                38 \n",
              "        New_Price             Price \n",
              "             5049                 0 "
            ]
          },
          "metadata": {}
        }
      ]
    },
    {
      "cell_type": "code",
      "source": [
        "#mean and median of all the column\n",
        "summary(car_data)"
      ],
      "metadata": {
        "colab": {
          "base_uri": "https://localhost:8080/",
          "height": 561
        },
        "id": "G7GGLwkLhckW",
        "outputId": "df57b78a-0d57-4eff-801b-1921766acb4b"
      },
      "execution_count": 8,
      "outputs": [
        {
          "output_type": "display_data",
          "data": {
            "text/plain": [
              "       X            Name             Location              Year     \n",
              " Min.   :   1   Length:5847        Length:5847        Min.   :1998  \n",
              " 1st Qu.:1510   Class :character   Class :character   1st Qu.:2012  \n",
              " Median :3015   Mode  :character   Mode  :character   Median :2014  \n",
              " Mean   :3013                                         Mean   :2013  \n",
              " 3rd Qu.:4518                                         3rd Qu.:2016  \n",
              " Max.   :6018                                         Max.   :2019  \n",
              "                                                                    \n",
              " Kilometers_Driven  Fuel_Type         Transmission        Owner_Type       \n",
              " Min.   :    171   Length:5847        Length:5847        Length:5847       \n",
              " 1st Qu.:  33468   Class :character   Class :character   Class :character  \n",
              " Median :  52576   Mode  :character   Mode  :character   Mode  :character  \n",
              " Mean   :  58410                                                           \n",
              " 3rd Qu.:  72490                                                           \n",
              " Max.   :6500000                                                           \n",
              "                                                                           \n",
              "    Mileage          Engine         Power           Seats       \n",
              " Min.   : 0.00   Min.   :  72   Min.   : 34.2   Min.   : 2.000  \n",
              " 1st Qu.:15.26   1st Qu.:1198   1st Qu.: 78.0   1st Qu.: 5.000  \n",
              " Median :18.19   Median :1497   Median : 98.6   Median : 5.000  \n",
              " Mean   :18.16   Mean   :1632   Mean   :113.8   Mean   : 5.286  \n",
              " 3rd Qu.:21.10   3rd Qu.:1991   3rd Qu.:139.0   3rd Qu.: 5.000  \n",
              " Max.   :28.40   Max.   :5998   Max.   :560.0   Max.   :10.000  \n",
              " NA's   :2       NA's   :36     NA's   :36      NA's   :38      \n",
              "   New_Price          Price        \n",
              " Min.   : 3.910   Min.   :  0.440  \n",
              " 1st Qu.: 8.035   1st Qu.:  3.550  \n",
              " Median :11.665   Median :  5.750  \n",
              " Mean   :20.892   Mean   :  9.654  \n",
              " 3rd Qu.:25.157   3rd Qu.: 10.250  \n",
              " Max.   :99.920   Max.   :160.000  \n",
              " NA's   :5049                      "
            ]
          },
          "metadata": {}
        }
      ]
    },
    {
      "cell_type": "code",
      "source": [
        "#finding the standerd deviation of all the columns\n",
        "sapply(car_data, function(x) if(is.numeric(x)) sd(x, na.rm = TRUE) else NA)\n"
      ],
      "metadata": {
        "colab": {
          "base_uri": "https://localhost:8080/",
          "height": 68
        },
        "id": "_RKi26nblfU2",
        "outputId": "329d60c8-639b-4d98-b91f-3db793182424"
      },
      "execution_count": 9,
      "outputs": [
        {
          "output_type": "display_data",
          "data": {
            "text/html": [
              "<style>\n",
              ".dl-inline {width: auto; margin:0; padding: 0}\n",
              ".dl-inline>dt, .dl-inline>dd {float: none; width: auto; display: inline-block}\n",
              ".dl-inline>dt::after {content: \":\\0020\"; padding-right: .5ex}\n",
              ".dl-inline>dt:not(:first-of-type) {padding-left: .5ex}\n",
              "</style><dl class=dl-inline><dt>X</dt><dd>1736.39888977887</dd><dt>Name</dt><dd>&lt;NA&gt;</dd><dt>Location</dt><dd>&lt;NA&gt;</dd><dt>Year</dt><dd>3.19494884390059</dd><dt>Kilometers_Driven</dt><dd>92379.7123678283</dd><dt>Fuel_Type</dt><dd>&lt;NA&gt;</dd><dt>Transmission</dt><dd>&lt;NA&gt;</dd><dt>Owner_Type</dt><dd>&lt;NA&gt;</dd><dt>Mileage</dt><dd>4.35713193729117</dd><dt>Engine</dt><dd>601.972586833751</dd><dt>Power</dt><dd>53.8967185906335</dd><dt>Seats</dt><dd>0.806668122718195</dd><dt>New_Price</dt><dd>20.2676802868102</dd><dt>Price</dt><dd>11.2759657068085</dd></dl>\n"
            ],
            "text/markdown": "X\n:   1736.39888977887Name\n:   &lt;NA&gt;Location\n:   &lt;NA&gt;Year\n:   3.19494884390059Kilometers_Driven\n:   92379.7123678283Fuel_Type\n:   &lt;NA&gt;Transmission\n:   &lt;NA&gt;Owner_Type\n:   &lt;NA&gt;Mileage\n:   4.35713193729117Engine\n:   601.972586833751Power\n:   53.8967185906335Seats\n:   0.806668122718195New_Price\n:   20.2676802868102Price\n:   11.2759657068085\n\n",
            "text/latex": "\\begin{description*}\n\\item[X] 1736.39888977887\n\\item[Name] <NA>\n\\item[Location] <NA>\n\\item[Year] 3.19494884390059\n\\item[Kilometers\\textbackslash{}\\_Driven] 92379.7123678283\n\\item[Fuel\\textbackslash{}\\_Type] <NA>\n\\item[Transmission] <NA>\n\\item[Owner\\textbackslash{}\\_Type] <NA>\n\\item[Mileage] 4.35713193729117\n\\item[Engine] 601.972586833751\n\\item[Power] 53.8967185906335\n\\item[Seats] 0.806668122718195\n\\item[New\\textbackslash{}\\_Price] 20.2676802868102\n\\item[Price] 11.2759657068085\n\\end{description*}\n",
            "text/plain": [
              "                X              Name          Location              Year \n",
              "     1.736399e+03                NA                NA      3.194949e+00 \n",
              "Kilometers_Driven         Fuel_Type      Transmission        Owner_Type \n",
              "     9.237971e+04                NA                NA                NA \n",
              "          Mileage            Engine             Power             Seats \n",
              "     4.357132e+00      6.019726e+02      5.389672e+01      8.066681e-01 \n",
              "        New_Price             Price \n",
              "     2.026768e+01      1.127597e+01 "
            ]
          },
          "metadata": {}
        }
      ]
    },
    {
      "cell_type": "markdown",
      "source": [
        "**1. Engine I choose median because the SD was pretty large which means our mean is skwed and replacing the missing value with the mean would skew it more to the right**\n",
        "  **2. for others means was good replacement value since, the Standred error is not too big. I choose to drop the new_price column since, more than 90% of the values were missing.**"
      ],
      "metadata": {
        "id": "Z3ds0bVtjOGB"
      }
    },
    {
      "cell_type": "code",
      "execution_count": 10,
      "metadata": {
        "id": "15UZxdrbOnA4"
      },
      "outputs": [],
      "source": [
        "#replacing the missing data\n",
        "\n",
        "car_data$Mileage[is.na(car_data$Mileage)] <- mean(car_data$Mileage,na.rm=TRUE)\n",
        "car_data$Engine[is.na(car_data$Engine)] <- median(car_data$Engine,na.rm=TRUE)\n",
        "car_data$Power[is.na(car_data$Power)] <- mean(car_data$Power,na.rm=TRUE)\n",
        "car_data$Seats[is.na(car_data$Seats)] <- median(car_data$Seats,na.rm=TRUE)\n",
        "car_data <- subset(car_data, select = -New_Price)"
      ]
    },
    {
      "cell_type": "code",
      "source": [
        "#making sure we got rid of the missing data\n",
        "colSums(is.na(car_data) | car_data == \"\")"
      ],
      "metadata": {
        "id": "74VNMiCycbOy",
        "colab": {
          "base_uri": "https://localhost:8080/",
          "height": 51
        },
        "outputId": "f6ff275e-3992-4f69-8bd7-ae95feb64bd5"
      },
      "execution_count": 11,
      "outputs": [
        {
          "output_type": "display_data",
          "data": {
            "text/html": [
              "<style>\n",
              ".dl-inline {width: auto; margin:0; padding: 0}\n",
              ".dl-inline>dt, .dl-inline>dd {float: none; width: auto; display: inline-block}\n",
              ".dl-inline>dt::after {content: \":\\0020\"; padding-right: .5ex}\n",
              ".dl-inline>dt:not(:first-of-type) {padding-left: .5ex}\n",
              "</style><dl class=dl-inline><dt>X</dt><dd>0</dd><dt>Name</dt><dd>0</dd><dt>Location</dt><dd>0</dd><dt>Year</dt><dd>0</dd><dt>Kilometers_Driven</dt><dd>0</dd><dt>Fuel_Type</dt><dd>0</dd><dt>Transmission</dt><dd>0</dd><dt>Owner_Type</dt><dd>0</dd><dt>Mileage</dt><dd>0</dd><dt>Engine</dt><dd>0</dd><dt>Power</dt><dd>0</dd><dt>Seats</dt><dd>0</dd><dt>Price</dt><dd>0</dd></dl>\n"
            ],
            "text/markdown": "X\n:   0Name\n:   0Location\n:   0Year\n:   0Kilometers_Driven\n:   0Fuel_Type\n:   0Transmission\n:   0Owner_Type\n:   0Mileage\n:   0Engine\n:   0Power\n:   0Seats\n:   0Price\n:   0\n\n",
            "text/latex": "\\begin{description*}\n\\item[X] 0\n\\item[Name] 0\n\\item[Location] 0\n\\item[Year] 0\n\\item[Kilometers\\textbackslash{}\\_Driven] 0\n\\item[Fuel\\textbackslash{}\\_Type] 0\n\\item[Transmission] 0\n\\item[Owner\\textbackslash{}\\_Type] 0\n\\item[Mileage] 0\n\\item[Engine] 0\n\\item[Power] 0\n\\item[Seats] 0\n\\item[Price] 0\n\\end{description*}\n",
            "text/plain": [
              "                X              Name          Location              Year \n",
              "                0                 0                 0                 0 \n",
              "Kilometers_Driven         Fuel_Type      Transmission        Owner_Type \n",
              "                0                 0                 0                 0 \n",
              "          Mileage            Engine             Power             Seats \n",
              "                0                 0                 0                 0 \n",
              "            Price \n",
              "                0 "
            ]
          },
          "metadata": {}
        }
      ]
    },
    {
      "cell_type": "code",
      "source": [
        "#one hot encoding on fuel_typle and transmission\n",
        "encoded_df <- as.data.frame(model.matrix(~ Fuel_Type + Transmission - 1, data = car_data))\n",
        "car_data_encoded <- cbind(car_data[, !(names(car_data) %in% c(\"Fuel_Type\", \"Transmission\"))], encoded_df)\n",
        "head(car_data_encoded)"
      ],
      "metadata": {
        "colab": {
          "base_uri": "https://localhost:8080/",
          "height": 524
        },
        "id": "RVcmrbqnpVLU",
        "outputId": "b3665c78-ad4f-4e44-cf3f-23c0d45f4dc8"
      },
      "execution_count": 12,
      "outputs": [
        {
          "output_type": "display_data",
          "data": {
            "text/html": [
              "<table class=\"dataframe\">\n",
              "<caption>A data.frame: 6 × 15</caption>\n",
              "<thead>\n",
              "\t<tr><th></th><th scope=col>X</th><th scope=col>Name</th><th scope=col>Location</th><th scope=col>Year</th><th scope=col>Kilometers_Driven</th><th scope=col>Owner_Type</th><th scope=col>Mileage</th><th scope=col>Engine</th><th scope=col>Power</th><th scope=col>Seats</th><th scope=col>Price</th><th scope=col>Fuel_TypeDiesel</th><th scope=col>Fuel_TypeElectric</th><th scope=col>Fuel_TypePetrol</th><th scope=col>TransmissionManual</th></tr>\n",
              "\t<tr><th></th><th scope=col>&lt;int&gt;</th><th scope=col>&lt;chr&gt;</th><th scope=col>&lt;chr&gt;</th><th scope=col>&lt;int&gt;</th><th scope=col>&lt;int&gt;</th><th scope=col>&lt;chr&gt;</th><th scope=col>&lt;dbl&gt;</th><th scope=col>&lt;dbl&gt;</th><th scope=col>&lt;dbl&gt;</th><th scope=col>&lt;dbl&gt;</th><th scope=col>&lt;dbl&gt;</th><th scope=col>&lt;dbl&gt;</th><th scope=col>&lt;dbl&gt;</th><th scope=col>&lt;dbl&gt;</th><th scope=col>&lt;dbl&gt;</th></tr>\n",
              "</thead>\n",
              "<tbody>\n",
              "\t<tr><th scope=row>1</th><td>1</td><td>Hyundai Creta 1.6 CRDi SX Option </td><td>Pune      </td><td>2015</td><td>41000</td><td>First </td><td>19.67</td><td>1582</td><td>126.20</td><td>5</td><td>12.50</td><td>1</td><td>0</td><td>0</td><td>1</td></tr>\n",
              "\t<tr><th scope=row>2</th><td>2</td><td>Honda Jazz V                     </td><td>Chennai   </td><td>2011</td><td>46000</td><td>First </td><td>18.20</td><td>1199</td><td> 88.70</td><td>5</td><td> 4.50</td><td>0</td><td>0</td><td>1</td><td>1</td></tr>\n",
              "\t<tr><th scope=row>3</th><td>3</td><td>Maruti Ertiga VDI                </td><td>Chennai   </td><td>2012</td><td>87000</td><td>First </td><td>20.77</td><td>1248</td><td> 88.76</td><td>7</td><td> 6.00</td><td>1</td><td>0</td><td>0</td><td>1</td></tr>\n",
              "\t<tr><th scope=row>4</th><td>4</td><td>Audi A4 New 2.0 TDI Multitronic  </td><td>Coimbatore</td><td>2013</td><td>40670</td><td>Second</td><td>15.20</td><td>1968</td><td>140.80</td><td>5</td><td>17.74</td><td>1</td><td>0</td><td>0</td><td>0</td></tr>\n",
              "\t<tr><th scope=row>5</th><td>6</td><td>Nissan Micra Diesel XV           </td><td>Jaipur    </td><td>2013</td><td>86999</td><td>First </td><td>23.08</td><td>1461</td><td> 63.10</td><td>5</td><td> 3.50</td><td>1</td><td>0</td><td>0</td><td>1</td></tr>\n",
              "\t<tr><th scope=row>6</th><td>7</td><td>Toyota Innova Crysta 2.8 GX AT 8S</td><td>Mumbai    </td><td>2016</td><td>36000</td><td>First </td><td>11.36</td><td>2755</td><td>171.50</td><td>8</td><td>17.50</td><td>1</td><td>0</td><td>0</td><td>0</td></tr>\n",
              "</tbody>\n",
              "</table>\n"
            ],
            "text/markdown": "\nA data.frame: 6 × 15\n\n| <!--/--> | X &lt;int&gt; | Name &lt;chr&gt; | Location &lt;chr&gt; | Year &lt;int&gt; | Kilometers_Driven &lt;int&gt; | Owner_Type &lt;chr&gt; | Mileage &lt;dbl&gt; | Engine &lt;dbl&gt; | Power &lt;dbl&gt; | Seats &lt;dbl&gt; | Price &lt;dbl&gt; | Fuel_TypeDiesel &lt;dbl&gt; | Fuel_TypeElectric &lt;dbl&gt; | Fuel_TypePetrol &lt;dbl&gt; | TransmissionManual &lt;dbl&gt; |\n|---|---|---|---|---|---|---|---|---|---|---|---|---|---|---|---|\n| 1 | 1 | Hyundai Creta 1.6 CRDi SX Option  | Pune       | 2015 | 41000 | First  | 19.67 | 1582 | 126.20 | 5 | 12.50 | 1 | 0 | 0 | 1 |\n| 2 | 2 | Honda Jazz V                      | Chennai    | 2011 | 46000 | First  | 18.20 | 1199 |  88.70 | 5 |  4.50 | 0 | 0 | 1 | 1 |\n| 3 | 3 | Maruti Ertiga VDI                 | Chennai    | 2012 | 87000 | First  | 20.77 | 1248 |  88.76 | 7 |  6.00 | 1 | 0 | 0 | 1 |\n| 4 | 4 | Audi A4 New 2.0 TDI Multitronic   | Coimbatore | 2013 | 40670 | Second | 15.20 | 1968 | 140.80 | 5 | 17.74 | 1 | 0 | 0 | 0 |\n| 5 | 6 | Nissan Micra Diesel XV            | Jaipur     | 2013 | 86999 | First  | 23.08 | 1461 |  63.10 | 5 |  3.50 | 1 | 0 | 0 | 1 |\n| 6 | 7 | Toyota Innova Crysta 2.8 GX AT 8S | Mumbai     | 2016 | 36000 | First  | 11.36 | 2755 | 171.50 | 8 | 17.50 | 1 | 0 | 0 | 0 |\n\n",
            "text/latex": "A data.frame: 6 × 15\n\\begin{tabular}{r|lllllllllllllll}\n  & X & Name & Location & Year & Kilometers\\_Driven & Owner\\_Type & Mileage & Engine & Power & Seats & Price & Fuel\\_TypeDiesel & Fuel\\_TypeElectric & Fuel\\_TypePetrol & TransmissionManual\\\\\n  & <int> & <chr> & <chr> & <int> & <int> & <chr> & <dbl> & <dbl> & <dbl> & <dbl> & <dbl> & <dbl> & <dbl> & <dbl> & <dbl>\\\\\n\\hline\n\t1 & 1 & Hyundai Creta 1.6 CRDi SX Option  & Pune       & 2015 & 41000 & First  & 19.67 & 1582 & 126.20 & 5 & 12.50 & 1 & 0 & 0 & 1\\\\\n\t2 & 2 & Honda Jazz V                      & Chennai    & 2011 & 46000 & First  & 18.20 & 1199 &  88.70 & 5 &  4.50 & 0 & 0 & 1 & 1\\\\\n\t3 & 3 & Maruti Ertiga VDI                 & Chennai    & 2012 & 87000 & First  & 20.77 & 1248 &  88.76 & 7 &  6.00 & 1 & 0 & 0 & 1\\\\\n\t4 & 4 & Audi A4 New 2.0 TDI Multitronic   & Coimbatore & 2013 & 40670 & Second & 15.20 & 1968 & 140.80 & 5 & 17.74 & 1 & 0 & 0 & 0\\\\\n\t5 & 6 & Nissan Micra Diesel XV            & Jaipur     & 2013 & 86999 & First  & 23.08 & 1461 &  63.10 & 5 &  3.50 & 1 & 0 & 0 & 1\\\\\n\t6 & 7 & Toyota Innova Crysta 2.8 GX AT 8S & Mumbai     & 2016 & 36000 & First  & 11.36 & 2755 & 171.50 & 8 & 17.50 & 1 & 0 & 0 & 0\\\\\n\\end{tabular}\n",
            "text/plain": [
              "  X Name                              Location   Year Kilometers_Driven\n",
              "1 1 Hyundai Creta 1.6 CRDi SX Option  Pune       2015 41000            \n",
              "2 2 Honda Jazz V                      Chennai    2011 46000            \n",
              "3 3 Maruti Ertiga VDI                 Chennai    2012 87000            \n",
              "4 4 Audi A4 New 2.0 TDI Multitronic   Coimbatore 2013 40670            \n",
              "5 6 Nissan Micra Diesel XV            Jaipur     2013 86999            \n",
              "6 7 Toyota Innova Crysta 2.8 GX AT 8S Mumbai     2016 36000            \n",
              "  Owner_Type Mileage Engine Power  Seats Price Fuel_TypeDiesel\n",
              "1 First      19.67   1582   126.20 5     12.50 1              \n",
              "2 First      18.20   1199    88.70 5      4.50 0              \n",
              "3 First      20.77   1248    88.76 7      6.00 1              \n",
              "4 Second     15.20   1968   140.80 5     17.74 1              \n",
              "5 First      23.08   1461    63.10 5      3.50 1              \n",
              "6 First      11.36   2755   171.50 8     17.50 1              \n",
              "  Fuel_TypeElectric Fuel_TypePetrol TransmissionManual\n",
              "1 0                 0               1                 \n",
              "2 0                 1               1                 \n",
              "3 0                 0               1                 \n",
              "4 0                 0               0                 \n",
              "5 0                 0               1                 \n",
              "6 0                 0               0                 "
            ]
          },
          "metadata": {}
        }
      ]
    },
    {
      "cell_type": "code",
      "source": [
        "#adding a new column for the age of the car\n",
        "mutated_car_data <- car_data %>%\n",
        "  mutate(age = 2024 - Year)\n",
        "head(mutated_car_data)"
      ],
      "metadata": {
        "colab": {
          "base_uri": "https://localhost:8080/",
          "height": 524
        },
        "id": "lLPFEjgoMMyy",
        "outputId": "509eae34-b597-4482-a246-84b68ba3183a"
      },
      "execution_count": 13,
      "outputs": [
        {
          "output_type": "display_data",
          "data": {
            "text/html": [
              "<table class=\"dataframe\">\n",
              "<caption>A data.frame: 6 × 14</caption>\n",
              "<thead>\n",
              "\t<tr><th></th><th scope=col>X</th><th scope=col>Name</th><th scope=col>Location</th><th scope=col>Year</th><th scope=col>Kilometers_Driven</th><th scope=col>Fuel_Type</th><th scope=col>Transmission</th><th scope=col>Owner_Type</th><th scope=col>Mileage</th><th scope=col>Engine</th><th scope=col>Power</th><th scope=col>Seats</th><th scope=col>Price</th><th scope=col>age</th></tr>\n",
              "\t<tr><th></th><th scope=col>&lt;int&gt;</th><th scope=col>&lt;chr&gt;</th><th scope=col>&lt;chr&gt;</th><th scope=col>&lt;int&gt;</th><th scope=col>&lt;int&gt;</th><th scope=col>&lt;chr&gt;</th><th scope=col>&lt;chr&gt;</th><th scope=col>&lt;chr&gt;</th><th scope=col>&lt;dbl&gt;</th><th scope=col>&lt;dbl&gt;</th><th scope=col>&lt;dbl&gt;</th><th scope=col>&lt;dbl&gt;</th><th scope=col>&lt;dbl&gt;</th><th scope=col>&lt;dbl&gt;</th></tr>\n",
              "</thead>\n",
              "<tbody>\n",
              "\t<tr><th scope=row>1</th><td>1</td><td>Hyundai Creta 1.6 CRDi SX Option </td><td>Pune      </td><td>2015</td><td>41000</td><td>Diesel</td><td>Manual   </td><td>First </td><td>19.67</td><td>1582</td><td>126.20</td><td>5</td><td>12.50</td><td> 9</td></tr>\n",
              "\t<tr><th scope=row>2</th><td>2</td><td>Honda Jazz V                     </td><td>Chennai   </td><td>2011</td><td>46000</td><td>Petrol</td><td>Manual   </td><td>First </td><td>18.20</td><td>1199</td><td> 88.70</td><td>5</td><td> 4.50</td><td>13</td></tr>\n",
              "\t<tr><th scope=row>3</th><td>3</td><td>Maruti Ertiga VDI                </td><td>Chennai   </td><td>2012</td><td>87000</td><td>Diesel</td><td>Manual   </td><td>First </td><td>20.77</td><td>1248</td><td> 88.76</td><td>7</td><td> 6.00</td><td>12</td></tr>\n",
              "\t<tr><th scope=row>4</th><td>4</td><td>Audi A4 New 2.0 TDI Multitronic  </td><td>Coimbatore</td><td>2013</td><td>40670</td><td>Diesel</td><td>Automatic</td><td>Second</td><td>15.20</td><td>1968</td><td>140.80</td><td>5</td><td>17.74</td><td>11</td></tr>\n",
              "\t<tr><th scope=row>5</th><td>6</td><td>Nissan Micra Diesel XV           </td><td>Jaipur    </td><td>2013</td><td>86999</td><td>Diesel</td><td>Manual   </td><td>First </td><td>23.08</td><td>1461</td><td> 63.10</td><td>5</td><td> 3.50</td><td>11</td></tr>\n",
              "\t<tr><th scope=row>6</th><td>7</td><td>Toyota Innova Crysta 2.8 GX AT 8S</td><td>Mumbai    </td><td>2016</td><td>36000</td><td>Diesel</td><td>Automatic</td><td>First </td><td>11.36</td><td>2755</td><td>171.50</td><td>8</td><td>17.50</td><td> 8</td></tr>\n",
              "</tbody>\n",
              "</table>\n"
            ],
            "text/markdown": "\nA data.frame: 6 × 14\n\n| <!--/--> | X &lt;int&gt; | Name &lt;chr&gt; | Location &lt;chr&gt; | Year &lt;int&gt; | Kilometers_Driven &lt;int&gt; | Fuel_Type &lt;chr&gt; | Transmission &lt;chr&gt; | Owner_Type &lt;chr&gt; | Mileage &lt;dbl&gt; | Engine &lt;dbl&gt; | Power &lt;dbl&gt; | Seats &lt;dbl&gt; | Price &lt;dbl&gt; | age &lt;dbl&gt; |\n|---|---|---|---|---|---|---|---|---|---|---|---|---|---|---|\n| 1 | 1 | Hyundai Creta 1.6 CRDi SX Option  | Pune       | 2015 | 41000 | Diesel | Manual    | First  | 19.67 | 1582 | 126.20 | 5 | 12.50 |  9 |\n| 2 | 2 | Honda Jazz V                      | Chennai    | 2011 | 46000 | Petrol | Manual    | First  | 18.20 | 1199 |  88.70 | 5 |  4.50 | 13 |\n| 3 | 3 | Maruti Ertiga VDI                 | Chennai    | 2012 | 87000 | Diesel | Manual    | First  | 20.77 | 1248 |  88.76 | 7 |  6.00 | 12 |\n| 4 | 4 | Audi A4 New 2.0 TDI Multitronic   | Coimbatore | 2013 | 40670 | Diesel | Automatic | Second | 15.20 | 1968 | 140.80 | 5 | 17.74 | 11 |\n| 5 | 6 | Nissan Micra Diesel XV            | Jaipur     | 2013 | 86999 | Diesel | Manual    | First  | 23.08 | 1461 |  63.10 | 5 |  3.50 | 11 |\n| 6 | 7 | Toyota Innova Crysta 2.8 GX AT 8S | Mumbai     | 2016 | 36000 | Diesel | Automatic | First  | 11.36 | 2755 | 171.50 | 8 | 17.50 |  8 |\n\n",
            "text/latex": "A data.frame: 6 × 14\n\\begin{tabular}{r|llllllllllllll}\n  & X & Name & Location & Year & Kilometers\\_Driven & Fuel\\_Type & Transmission & Owner\\_Type & Mileage & Engine & Power & Seats & Price & age\\\\\n  & <int> & <chr> & <chr> & <int> & <int> & <chr> & <chr> & <chr> & <dbl> & <dbl> & <dbl> & <dbl> & <dbl> & <dbl>\\\\\n\\hline\n\t1 & 1 & Hyundai Creta 1.6 CRDi SX Option  & Pune       & 2015 & 41000 & Diesel & Manual    & First  & 19.67 & 1582 & 126.20 & 5 & 12.50 &  9\\\\\n\t2 & 2 & Honda Jazz V                      & Chennai    & 2011 & 46000 & Petrol & Manual    & First  & 18.20 & 1199 &  88.70 & 5 &  4.50 & 13\\\\\n\t3 & 3 & Maruti Ertiga VDI                 & Chennai    & 2012 & 87000 & Diesel & Manual    & First  & 20.77 & 1248 &  88.76 & 7 &  6.00 & 12\\\\\n\t4 & 4 & Audi A4 New 2.0 TDI Multitronic   & Coimbatore & 2013 & 40670 & Diesel & Automatic & Second & 15.20 & 1968 & 140.80 & 5 & 17.74 & 11\\\\\n\t5 & 6 & Nissan Micra Diesel XV            & Jaipur     & 2013 & 86999 & Diesel & Manual    & First  & 23.08 & 1461 &  63.10 & 5 &  3.50 & 11\\\\\n\t6 & 7 & Toyota Innova Crysta 2.8 GX AT 8S & Mumbai     & 2016 & 36000 & Diesel & Automatic & First  & 11.36 & 2755 & 171.50 & 8 & 17.50 &  8\\\\\n\\end{tabular}\n",
            "text/plain": [
              "  X Name                              Location   Year Kilometers_Driven\n",
              "1 1 Hyundai Creta 1.6 CRDi SX Option  Pune       2015 41000            \n",
              "2 2 Honda Jazz V                      Chennai    2011 46000            \n",
              "3 3 Maruti Ertiga VDI                 Chennai    2012 87000            \n",
              "4 4 Audi A4 New 2.0 TDI Multitronic   Coimbatore 2013 40670            \n",
              "5 6 Nissan Micra Diesel XV            Jaipur     2013 86999            \n",
              "6 7 Toyota Innova Crysta 2.8 GX AT 8S Mumbai     2016 36000            \n",
              "  Fuel_Type Transmission Owner_Type Mileage Engine Power  Seats Price age\n",
              "1 Diesel    Manual       First      19.67   1582   126.20 5     12.50  9 \n",
              "2 Petrol    Manual       First      18.20   1199    88.70 5      4.50 13 \n",
              "3 Diesel    Manual       First      20.77   1248    88.76 7      6.00 12 \n",
              "4 Diesel    Automatic    Second     15.20   1968   140.80 5     17.74 11 \n",
              "5 Diesel    Manual       First      23.08   1461    63.10 5      3.50 11 \n",
              "6 Diesel    Automatic    First      11.36   2755   171.50 8     17.50  8 "
            ]
          },
          "metadata": {}
        }
      ]
    },
    {
      "cell_type": "code",
      "source": [
        "#renaming the new column that we created\n",
        "mutated_car_data <- mutated_car_data %>%\n",
        "  rename(car_age = age)\n",
        "head(mutated_car_data)"
      ],
      "metadata": {
        "colab": {
          "base_uri": "https://localhost:8080/",
          "height": 524
        },
        "id": "4BFKpswOc2ra",
        "outputId": "101b1d77-5013-4df4-e3fa-0a6a567d852d"
      },
      "execution_count": 14,
      "outputs": [
        {
          "output_type": "display_data",
          "data": {
            "text/html": [
              "<table class=\"dataframe\">\n",
              "<caption>A data.frame: 6 × 14</caption>\n",
              "<thead>\n",
              "\t<tr><th></th><th scope=col>X</th><th scope=col>Name</th><th scope=col>Location</th><th scope=col>Year</th><th scope=col>Kilometers_Driven</th><th scope=col>Fuel_Type</th><th scope=col>Transmission</th><th scope=col>Owner_Type</th><th scope=col>Mileage</th><th scope=col>Engine</th><th scope=col>Power</th><th scope=col>Seats</th><th scope=col>Price</th><th scope=col>car_age</th></tr>\n",
              "\t<tr><th></th><th scope=col>&lt;int&gt;</th><th scope=col>&lt;chr&gt;</th><th scope=col>&lt;chr&gt;</th><th scope=col>&lt;int&gt;</th><th scope=col>&lt;int&gt;</th><th scope=col>&lt;chr&gt;</th><th scope=col>&lt;chr&gt;</th><th scope=col>&lt;chr&gt;</th><th scope=col>&lt;dbl&gt;</th><th scope=col>&lt;dbl&gt;</th><th scope=col>&lt;dbl&gt;</th><th scope=col>&lt;dbl&gt;</th><th scope=col>&lt;dbl&gt;</th><th scope=col>&lt;dbl&gt;</th></tr>\n",
              "</thead>\n",
              "<tbody>\n",
              "\t<tr><th scope=row>1</th><td>1</td><td>Hyundai Creta 1.6 CRDi SX Option </td><td>Pune      </td><td>2015</td><td>41000</td><td>Diesel</td><td>Manual   </td><td>First </td><td>19.67</td><td>1582</td><td>126.20</td><td>5</td><td>12.50</td><td> 9</td></tr>\n",
              "\t<tr><th scope=row>2</th><td>2</td><td>Honda Jazz V                     </td><td>Chennai   </td><td>2011</td><td>46000</td><td>Petrol</td><td>Manual   </td><td>First </td><td>18.20</td><td>1199</td><td> 88.70</td><td>5</td><td> 4.50</td><td>13</td></tr>\n",
              "\t<tr><th scope=row>3</th><td>3</td><td>Maruti Ertiga VDI                </td><td>Chennai   </td><td>2012</td><td>87000</td><td>Diesel</td><td>Manual   </td><td>First </td><td>20.77</td><td>1248</td><td> 88.76</td><td>7</td><td> 6.00</td><td>12</td></tr>\n",
              "\t<tr><th scope=row>4</th><td>4</td><td>Audi A4 New 2.0 TDI Multitronic  </td><td>Coimbatore</td><td>2013</td><td>40670</td><td>Diesel</td><td>Automatic</td><td>Second</td><td>15.20</td><td>1968</td><td>140.80</td><td>5</td><td>17.74</td><td>11</td></tr>\n",
              "\t<tr><th scope=row>5</th><td>6</td><td>Nissan Micra Diesel XV           </td><td>Jaipur    </td><td>2013</td><td>86999</td><td>Diesel</td><td>Manual   </td><td>First </td><td>23.08</td><td>1461</td><td> 63.10</td><td>5</td><td> 3.50</td><td>11</td></tr>\n",
              "\t<tr><th scope=row>6</th><td>7</td><td>Toyota Innova Crysta 2.8 GX AT 8S</td><td>Mumbai    </td><td>2016</td><td>36000</td><td>Diesel</td><td>Automatic</td><td>First </td><td>11.36</td><td>2755</td><td>171.50</td><td>8</td><td>17.50</td><td> 8</td></tr>\n",
              "</tbody>\n",
              "</table>\n"
            ],
            "text/markdown": "\nA data.frame: 6 × 14\n\n| <!--/--> | X &lt;int&gt; | Name &lt;chr&gt; | Location &lt;chr&gt; | Year &lt;int&gt; | Kilometers_Driven &lt;int&gt; | Fuel_Type &lt;chr&gt; | Transmission &lt;chr&gt; | Owner_Type &lt;chr&gt; | Mileage &lt;dbl&gt; | Engine &lt;dbl&gt; | Power &lt;dbl&gt; | Seats &lt;dbl&gt; | Price &lt;dbl&gt; | car_age &lt;dbl&gt; |\n|---|---|---|---|---|---|---|---|---|---|---|---|---|---|---|\n| 1 | 1 | Hyundai Creta 1.6 CRDi SX Option  | Pune       | 2015 | 41000 | Diesel | Manual    | First  | 19.67 | 1582 | 126.20 | 5 | 12.50 |  9 |\n| 2 | 2 | Honda Jazz V                      | Chennai    | 2011 | 46000 | Petrol | Manual    | First  | 18.20 | 1199 |  88.70 | 5 |  4.50 | 13 |\n| 3 | 3 | Maruti Ertiga VDI                 | Chennai    | 2012 | 87000 | Diesel | Manual    | First  | 20.77 | 1248 |  88.76 | 7 |  6.00 | 12 |\n| 4 | 4 | Audi A4 New 2.0 TDI Multitronic   | Coimbatore | 2013 | 40670 | Diesel | Automatic | Second | 15.20 | 1968 | 140.80 | 5 | 17.74 | 11 |\n| 5 | 6 | Nissan Micra Diesel XV            | Jaipur     | 2013 | 86999 | Diesel | Manual    | First  | 23.08 | 1461 |  63.10 | 5 |  3.50 | 11 |\n| 6 | 7 | Toyota Innova Crysta 2.8 GX AT 8S | Mumbai     | 2016 | 36000 | Diesel | Automatic | First  | 11.36 | 2755 | 171.50 | 8 | 17.50 |  8 |\n\n",
            "text/latex": "A data.frame: 6 × 14\n\\begin{tabular}{r|llllllllllllll}\n  & X & Name & Location & Year & Kilometers\\_Driven & Fuel\\_Type & Transmission & Owner\\_Type & Mileage & Engine & Power & Seats & Price & car\\_age\\\\\n  & <int> & <chr> & <chr> & <int> & <int> & <chr> & <chr> & <chr> & <dbl> & <dbl> & <dbl> & <dbl> & <dbl> & <dbl>\\\\\n\\hline\n\t1 & 1 & Hyundai Creta 1.6 CRDi SX Option  & Pune       & 2015 & 41000 & Diesel & Manual    & First  & 19.67 & 1582 & 126.20 & 5 & 12.50 &  9\\\\\n\t2 & 2 & Honda Jazz V                      & Chennai    & 2011 & 46000 & Petrol & Manual    & First  & 18.20 & 1199 &  88.70 & 5 &  4.50 & 13\\\\\n\t3 & 3 & Maruti Ertiga VDI                 & Chennai    & 2012 & 87000 & Diesel & Manual    & First  & 20.77 & 1248 &  88.76 & 7 &  6.00 & 12\\\\\n\t4 & 4 & Audi A4 New 2.0 TDI Multitronic   & Coimbatore & 2013 & 40670 & Diesel & Automatic & Second & 15.20 & 1968 & 140.80 & 5 & 17.74 & 11\\\\\n\t5 & 6 & Nissan Micra Diesel XV            & Jaipur     & 2013 & 86999 & Diesel & Manual    & First  & 23.08 & 1461 &  63.10 & 5 &  3.50 & 11\\\\\n\t6 & 7 & Toyota Innova Crysta 2.8 GX AT 8S & Mumbai     & 2016 & 36000 & Diesel & Automatic & First  & 11.36 & 2755 & 171.50 & 8 & 17.50 &  8\\\\\n\\end{tabular}\n",
            "text/plain": [
              "  X Name                              Location   Year Kilometers_Driven\n",
              "1 1 Hyundai Creta 1.6 CRDi SX Option  Pune       2015 41000            \n",
              "2 2 Honda Jazz V                      Chennai    2011 46000            \n",
              "3 3 Maruti Ertiga VDI                 Chennai    2012 87000            \n",
              "4 4 Audi A4 New 2.0 TDI Multitronic   Coimbatore 2013 40670            \n",
              "5 6 Nissan Micra Diesel XV            Jaipur     2013 86999            \n",
              "6 7 Toyota Innova Crysta 2.8 GX AT 8S Mumbai     2016 36000            \n",
              "  Fuel_Type Transmission Owner_Type Mileage Engine Power  Seats Price car_age\n",
              "1 Diesel    Manual       First      19.67   1582   126.20 5     12.50  9     \n",
              "2 Petrol    Manual       First      18.20   1199    88.70 5      4.50 13     \n",
              "3 Diesel    Manual       First      20.77   1248    88.76 7      6.00 12     \n",
              "4 Diesel    Automatic    Second     15.20   1968   140.80 5     17.74 11     \n",
              "5 Diesel    Manual       First      23.08   1461    63.10 5      3.50 11     \n",
              "6 Diesel    Automatic    First      11.36   2755   171.50 8     17.50  8     "
            ]
          },
          "metadata": {}
        }
      ]
    },
    {
      "cell_type": "code",
      "source": [
        "#writing the new mutated_car_data dataframe to the file\n",
        "if (!dir.exists(\"data_clean\")) {\n",
        "  dir.create(\"data_clean\")\n",
        "}\n",
        "write.csv(mutated_car_data, \"data_clean/clean_train.csv\", row.names = FALSE)"
      ],
      "metadata": {
        "id": "Vz6d4sUzX7wf"
      },
      "execution_count": 15,
      "outputs": []
    }
  ],
  "metadata": {
    "colab": {
      "provenance": []
    },
    "kernelspec": {
      "display_name": "R",
      "name": "ir"
    },
    "language_info": {
      "name": "R"
    }
  },
  "nbformat": 4,
  "nbformat_minor": 0
}